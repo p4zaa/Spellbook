{
 "cells": [
  {
   "cell_type": "code",
   "execution_count": 1,
   "id": "5cf6de61",
   "metadata": {},
   "outputs": [
    {
     "name": "stderr",
     "output_type": "stream",
     "text": [
      "[nltk_data] Downloading package punkt to /Users/pa/nltk_data...\n",
      "[nltk_data]   Package punkt is already up-to-date!\n",
      "[nltk_data] Downloading package punkt_tab to /Users/pa/nltk_data...\n",
      "[nltk_data]   Package punkt_tab is already up-to-date!\n",
      "[nltk_data] Downloading package stopwords to /Users/pa/nltk_data...\n",
      "[nltk_data]   Package stopwords is already up-to-date!\n"
     ]
    }
   ],
   "source": [
    "import sys\n",
    "sys.path.append('/Users/pa/Documents/GitHub Repository Clone/Spellbook-1')\n",
    "from spellbook import scraper\n",
    "import nest_asyncio, asyncio\n",
    "nest_asyncio.apply()"
   ]
  },
  {
   "cell_type": "code",
   "execution_count": 2,
   "id": "5ca5f280",
   "metadata": {},
   "outputs": [],
   "source": [
    "keywords = [\"travel card\"]"
   ]
  },
  {
   "cell_type": "code",
   "execution_count": 11,
   "id": "004e55a2",
   "metadata": {},
   "outputs": [
    {
     "data": {
      "text/html": [
       "<pre style=\"white-space:pre;overflow-x:auto;line-height:normal;font-family:Menlo,'DejaVu Sans Mono',consolas,'Courier New',monospace\"><span style=\"color: #008080; text-decoration-color: #008080; font-weight: bold\">[</span><span style=\"color: #008080; text-decoration-color: #008080\">INIT</span><span style=\"color: #008080; text-decoration-color: #008080; font-weight: bold\">]</span><span style=\"color: #008080; text-decoration-color: #008080\">.... → Crawl4AI </span><span style=\"color: #008080; text-decoration-color: #008080; font-weight: bold\">0.7</span><span style=\"color: #008080; text-decoration-color: #008080\">.</span><span style=\"color: #008080; text-decoration-color: #008080; font-weight: bold\">4</span><span style=\"color: #008080; text-decoration-color: #008080\"> </span>\n",
       "</pre>\n"
      ],
      "text/plain": [
       "\u001b[1;36m[\u001b[0m\u001b[36mINIT\u001b[0m\u001b[1;36m]\u001b[0m\u001b[36m...\u001b[0m\u001b[36m. → Crawl4AI \u001b[0m\u001b[1;36m0.7\u001b[0m\u001b[36m.\u001b[0m\u001b[1;36m4\u001b[0m\u001b[36m \u001b[0m\n"
      ]
     },
     "metadata": {},
     "output_type": "display_data"
    },
    {
     "data": {
      "text/html": [
       "<pre style=\"white-space:pre;overflow-x:auto;line-height:normal;font-family:Menlo,'DejaVu Sans Mono',consolas,'Courier New',monospace\"><span style=\"color: #008000; text-decoration-color: #008000; font-weight: bold\">[</span><span style=\"color: #008000; text-decoration-color: #008000\">FETCH</span><span style=\"color: #008000; text-decoration-color: #008000; font-weight: bold\">]</span><span style=\"color: #008000; text-decoration-color: #008000\">... ↓ </span><span style=\"color: #008000; text-decoration-color: #008000; text-decoration: underline\">https://www.google.com/search?q=travel+card+site:pantip.com+after:2024&amp;start=20</span><span style=\"color: #008000; text-decoration-color: #008000\">                      |</span>\n",
       "<span style=\"color: #008000; text-decoration-color: #008000\">✓ | ⏱: </span><span style=\"color: #008000; text-decoration-color: #008000; font-weight: bold\">3.</span><span style=\"color: #008000; text-decoration-color: #008000\">12s </span>\n",
       "</pre>\n"
      ],
      "text/plain": [
       "\u001b[1;32m[\u001b[0m\u001b[32mFETCH\u001b[0m\u001b[1;32m]\u001b[0m\u001b[32m...\u001b[0m\u001b[32m ↓ \u001b[0m\u001b[4;32mhttps://www.google.com/search?\u001b[0m\u001b[4;32mq\u001b[0m\u001b[4;32m=\u001b[0m\u001b[4;32mtravel\u001b[0m\u001b[4;32m+card+site:pantip.com+after:2024&\u001b[0m\u001b[4;32mstart\u001b[0m\u001b[4;32m=\u001b[0m\u001b[4;32m20\u001b[0m\u001b[32m                      |\u001b[0m\n",
       "\u001b[32m✓\u001b[0m\u001b[32m | ⏱: \u001b[0m\u001b[1;32m3.\u001b[0m\u001b[32m12s \u001b[0m\n"
      ]
     },
     "metadata": {},
     "output_type": "display_data"
    },
    {
     "data": {
      "text/html": [
       "<pre style=\"white-space:pre;overflow-x:auto;line-height:normal;font-family:Menlo,'DejaVu Sans Mono',consolas,'Courier New',monospace\"><span style=\"color: #008000; text-decoration-color: #008000; font-weight: bold\">[</span><span style=\"color: #008000; text-decoration-color: #008000\">SCRAPE</span><span style=\"color: #008000; text-decoration-color: #008000; font-weight: bold\">]</span><span style=\"color: #008000; text-decoration-color: #008000\">.. ◆ </span><span style=\"color: #008000; text-decoration-color: #008000; text-decoration: underline\">https://www.google.com/search?q=travel+card+site:pantip.com+after:2024&amp;start=20</span><span style=\"color: #008000; text-decoration-color: #008000\">                      |</span>\n",
       "<span style=\"color: #008000; text-decoration-color: #008000\">✓ | ⏱: </span><span style=\"color: #008000; text-decoration-color: #008000; font-weight: bold\">0.</span><span style=\"color: #008000; text-decoration-color: #008000\">04s </span>\n",
       "</pre>\n"
      ],
      "text/plain": [
       "\u001b[1;32m[\u001b[0m\u001b[32mSCRAPE\u001b[0m\u001b[1;32m]\u001b[0m\u001b[32m.. ◆ \u001b[0m\u001b[4;32mhttps://www.google.com/search?\u001b[0m\u001b[4;32mq\u001b[0m\u001b[4;32m=\u001b[0m\u001b[4;32mtravel\u001b[0m\u001b[4;32m+card+site:pantip.com+after:2024&\u001b[0m\u001b[4;32mstart\u001b[0m\u001b[4;32m=\u001b[0m\u001b[4;32m20\u001b[0m\u001b[32m                      |\u001b[0m\n",
       "\u001b[32m✓\u001b[0m\u001b[32m | ⏱: \u001b[0m\u001b[1;32m0.\u001b[0m\u001b[32m04s \u001b[0m\n"
      ]
     },
     "metadata": {},
     "output_type": "display_data"
    },
    {
     "data": {
      "text/html": [
       "<pre style=\"white-space:pre;overflow-x:auto;line-height:normal;font-family:Menlo,'DejaVu Sans Mono',consolas,'Courier New',monospace\"><span style=\"color: #008000; text-decoration-color: #008000; font-weight: bold\">[</span><span style=\"color: #008000; text-decoration-color: #008000\">EXTRACT</span><span style=\"color: #008000; text-decoration-color: #008000; font-weight: bold\">]</span><span style=\"color: #008000; text-decoration-color: #008000\">. ■ </span><span style=\"color: #008000; text-decoration-color: #008000; text-decoration: underline\">https://www.google.com/search?q=travel+card+site:pantip.com+after:2024&amp;start=20</span><span style=\"color: #008000; text-decoration-color: #008000\">                      |</span>\n",
       "<span style=\"color: #008000; text-decoration-color: #008000\">✓ | ⏱: </span><span style=\"color: #008000; text-decoration-color: #008000; font-weight: bold\">0.</span><span style=\"color: #008000; text-decoration-color: #008000\">02s </span>\n",
       "</pre>\n"
      ],
      "text/plain": [
       "\u001b[1;32m[\u001b[0m\u001b[32mEXTRACT\u001b[0m\u001b[1;32m]\u001b[0m\u001b[32m. ■ \u001b[0m\u001b[4;32mhttps://www.google.com/search?\u001b[0m\u001b[4;32mq\u001b[0m\u001b[4;32m=\u001b[0m\u001b[4;32mtravel\u001b[0m\u001b[4;32m+card+site:pantip.com+after:2024&\u001b[0m\u001b[4;32mstart\u001b[0m\u001b[4;32m=\u001b[0m\u001b[4;32m20\u001b[0m\u001b[32m                      |\u001b[0m\n",
       "\u001b[32m✓\u001b[0m\u001b[32m | ⏱: \u001b[0m\u001b[1;32m0.\u001b[0m\u001b[32m02s \u001b[0m\n"
      ]
     },
     "metadata": {},
     "output_type": "display_data"
    },
    {
     "data": {
      "text/html": [
       "<pre style=\"white-space:pre;overflow-x:auto;line-height:normal;font-family:Menlo,'DejaVu Sans Mono',consolas,'Courier New',monospace\"><span style=\"color: #008000; text-decoration-color: #008000; font-weight: bold\">[</span><span style=\"color: #008000; text-decoration-color: #008000\">COMPLETE</span><span style=\"color: #008000; text-decoration-color: #008000; font-weight: bold\">]</span><span style=\"color: #008000; text-decoration-color: #008000\"> ● </span><span style=\"color: #008000; text-decoration-color: #008000; text-decoration: underline\">https://www.google.com/search?q=travel+card+site:pantip.com+after:2024&amp;start=20</span><span style=\"color: #008000; text-decoration-color: #008000\">                      |</span>\n",
       "<span style=\"color: #008000; text-decoration-color: #008000\">✓ | ⏱: </span><span style=\"color: #008000; text-decoration-color: #008000; font-weight: bold\">3.</span><span style=\"color: #008000; text-decoration-color: #008000\">20s </span>\n",
       "</pre>\n"
      ],
      "text/plain": [
       "\u001b[1;32m[\u001b[0m\u001b[32mCOMPLETE\u001b[0m\u001b[1;32m]\u001b[0m\u001b[32m ● \u001b[0m\u001b[4;32mhttps://www.google.com/search?\u001b[0m\u001b[4;32mq\u001b[0m\u001b[4;32m=\u001b[0m\u001b[4;32mtravel\u001b[0m\u001b[4;32m+card+site:pantip.com+after:2024&\u001b[0m\u001b[4;32mstart\u001b[0m\u001b[4;32m=\u001b[0m\u001b[4;32m20\u001b[0m\u001b[32m                      |\u001b[0m\n",
       "\u001b[32m✓\u001b[0m\u001b[32m | ⏱: \u001b[0m\u001b[1;32m3.\u001b[0m\u001b[32m20s \u001b[0m\n"
      ]
     },
     "metadata": {},
     "output_type": "display_data"
    },
    {
     "data": {
      "text/html": [
       "<pre style=\"white-space:pre;overflow-x:auto;line-height:normal;font-family:Menlo,'DejaVu Sans Mono',consolas,'Courier New',monospace\"><span style=\"color: #008000; text-decoration-color: #008000; font-weight: bold\">[</span><span style=\"color: #008000; text-decoration-color: #008000\">FETCH</span><span style=\"color: #008000; text-decoration-color: #008000; font-weight: bold\">]</span><span style=\"color: #008000; text-decoration-color: #008000\">... ↓ </span><span style=\"color: #008000; text-decoration-color: #008000; text-decoration: underline\">https://www.google.com/search?q=travel+card+site:pantip.com+after:2024&amp;start=0</span><span style=\"color: #008000; text-decoration-color: #008000\">                       |</span>\n",
       "<span style=\"color: #008000; text-decoration-color: #008000\">✓ | ⏱: </span><span style=\"color: #008000; text-decoration-color: #008000; font-weight: bold\">3.</span><span style=\"color: #008000; text-decoration-color: #008000\">60s </span>\n",
       "</pre>\n"
      ],
      "text/plain": [
       "\u001b[1;32m[\u001b[0m\u001b[32mFETCH\u001b[0m\u001b[1;32m]\u001b[0m\u001b[32m...\u001b[0m\u001b[32m ↓ \u001b[0m\u001b[4;32mhttps://www.google.com/search?\u001b[0m\u001b[4;32mq\u001b[0m\u001b[4;32m=\u001b[0m\u001b[4;32mtravel\u001b[0m\u001b[4;32m+card+site:pantip.com+after:2024&\u001b[0m\u001b[4;32mstart\u001b[0m\u001b[4;32m=\u001b[0m\u001b[4;32m0\u001b[0m\u001b[32m                       |\u001b[0m\n",
       "\u001b[32m✓\u001b[0m\u001b[32m | ⏱: \u001b[0m\u001b[1;32m3.\u001b[0m\u001b[32m60s \u001b[0m\n"
      ]
     },
     "metadata": {},
     "output_type": "display_data"
    },
    {
     "data": {
      "text/html": [
       "<pre style=\"white-space:pre;overflow-x:auto;line-height:normal;font-family:Menlo,'DejaVu Sans Mono',consolas,'Courier New',monospace\"><span style=\"color: #008000; text-decoration-color: #008000; font-weight: bold\">[</span><span style=\"color: #008000; text-decoration-color: #008000\">SCRAPE</span><span style=\"color: #008000; text-decoration-color: #008000; font-weight: bold\">]</span><span style=\"color: #008000; text-decoration-color: #008000\">.. ◆ </span><span style=\"color: #008000; text-decoration-color: #008000; text-decoration: underline\">https://www.google.com/search?q=travel+card+site:pantip.com+after:2024&amp;start=0</span><span style=\"color: #008000; text-decoration-color: #008000\">                       |</span>\n",
       "<span style=\"color: #008000; text-decoration-color: #008000\">✓ | ⏱: </span><span style=\"color: #808000; text-decoration-color: #808000; font-weight: bold\">0.</span><span style=\"color: #808000; text-decoration-color: #808000\">05</span><span style=\"color: #008000; text-decoration-color: #008000\">s </span>\n",
       "</pre>\n"
      ],
      "text/plain": [
       "\u001b[1;32m[\u001b[0m\u001b[32mSCRAPE\u001b[0m\u001b[1;32m]\u001b[0m\u001b[32m.. ◆ \u001b[0m\u001b[4;32mhttps://www.google.com/search?\u001b[0m\u001b[4;32mq\u001b[0m\u001b[4;32m=\u001b[0m\u001b[4;32mtravel\u001b[0m\u001b[4;32m+card+site:pantip.com+after:2024&\u001b[0m\u001b[4;32mstart\u001b[0m\u001b[4;32m=\u001b[0m\u001b[4;32m0\u001b[0m\u001b[32m                       |\u001b[0m\n",
       "\u001b[32m✓\u001b[0m\u001b[32m | ⏱: \u001b[0m\u001b[1;33m0.\u001b[0m\u001b[33m05\u001b[0m\u001b[32ms \u001b[0m\n"
      ]
     },
     "metadata": {},
     "output_type": "display_data"
    },
    {
     "data": {
      "text/html": [
       "<pre style=\"white-space:pre;overflow-x:auto;line-height:normal;font-family:Menlo,'DejaVu Sans Mono',consolas,'Courier New',monospace\"><span style=\"color: #008000; text-decoration-color: #008000; font-weight: bold\">[</span><span style=\"color: #008000; text-decoration-color: #008000\">EXTRACT</span><span style=\"color: #008000; text-decoration-color: #008000; font-weight: bold\">]</span><span style=\"color: #008000; text-decoration-color: #008000\">. ■ </span><span style=\"color: #008000; text-decoration-color: #008000; text-decoration: underline\">https://www.google.com/search?q=travel+card+site:pantip.com+after:2024&amp;start=0</span><span style=\"color: #008000; text-decoration-color: #008000\">                       |</span>\n",
       "<span style=\"color: #008000; text-decoration-color: #008000\">✓ | ⏱: </span><span style=\"color: #008000; text-decoration-color: #008000; font-weight: bold\">0.</span><span style=\"color: #008000; text-decoration-color: #008000\">03s </span>\n",
       "</pre>\n"
      ],
      "text/plain": [
       "\u001b[1;32m[\u001b[0m\u001b[32mEXTRACT\u001b[0m\u001b[1;32m]\u001b[0m\u001b[32m. ■ \u001b[0m\u001b[4;32mhttps://www.google.com/search?\u001b[0m\u001b[4;32mq\u001b[0m\u001b[4;32m=\u001b[0m\u001b[4;32mtravel\u001b[0m\u001b[4;32m+card+site:pantip.com+after:2024&\u001b[0m\u001b[4;32mstart\u001b[0m\u001b[4;32m=\u001b[0m\u001b[4;32m0\u001b[0m\u001b[32m                       |\u001b[0m\n",
       "\u001b[32m✓\u001b[0m\u001b[32m | ⏱: \u001b[0m\u001b[1;32m0.\u001b[0m\u001b[32m03s \u001b[0m\n"
      ]
     },
     "metadata": {},
     "output_type": "display_data"
    },
    {
     "data": {
      "text/html": [
       "<pre style=\"white-space:pre;overflow-x:auto;line-height:normal;font-family:Menlo,'DejaVu Sans Mono',consolas,'Courier New',monospace\"><span style=\"color: #008000; text-decoration-color: #008000; font-weight: bold\">[</span><span style=\"color: #008000; text-decoration-color: #008000\">COMPLETE</span><span style=\"color: #008000; text-decoration-color: #008000; font-weight: bold\">]</span><span style=\"color: #008000; text-decoration-color: #008000\"> ● </span><span style=\"color: #008000; text-decoration-color: #008000; text-decoration: underline\">https://www.google.com/search?q=travel+card+site:pantip.com+after:2024&amp;start=0</span><span style=\"color: #008000; text-decoration-color: #008000\">                       |</span>\n",
       "<span style=\"color: #008000; text-decoration-color: #008000\">✓ | ⏱: </span><span style=\"color: #008000; text-decoration-color: #008000; font-weight: bold\">3.</span><span style=\"color: #008000; text-decoration-color: #008000\">68s </span>\n",
       "</pre>\n"
      ],
      "text/plain": [
       "\u001b[1;32m[\u001b[0m\u001b[32mCOMPLETE\u001b[0m\u001b[1;32m]\u001b[0m\u001b[32m ● \u001b[0m\u001b[4;32mhttps://www.google.com/search?\u001b[0m\u001b[4;32mq\u001b[0m\u001b[4;32m=\u001b[0m\u001b[4;32mtravel\u001b[0m\u001b[4;32m+card+site:pantip.com+after:2024&\u001b[0m\u001b[4;32mstart\u001b[0m\u001b[4;32m=\u001b[0m\u001b[4;32m0\u001b[0m\u001b[32m                       |\u001b[0m\n",
       "\u001b[32m✓\u001b[0m\u001b[32m | ⏱: \u001b[0m\u001b[1;32m3.\u001b[0m\u001b[32m68s \u001b[0m\n"
      ]
     },
     "metadata": {},
     "output_type": "display_data"
    },
    {
     "data": {
      "text/html": [
       "<pre style=\"white-space:pre;overflow-x:auto;line-height:normal;font-family:Menlo,'DejaVu Sans Mono',consolas,'Courier New',monospace\"><span style=\"color: #008000; text-decoration-color: #008000; font-weight: bold\">[</span><span style=\"color: #008000; text-decoration-color: #008000\">FETCH</span><span style=\"color: #008000; text-decoration-color: #008000; font-weight: bold\">]</span><span style=\"color: #008000; text-decoration-color: #008000\">... ↓ </span><span style=\"color: #008000; text-decoration-color: #008000; text-decoration: underline\">https://www.google.com/search?q=travel+card+site:pantip.com+after:2024&amp;start=10</span><span style=\"color: #008000; text-decoration-color: #008000\">                      |</span>\n",
       "<span style=\"color: #008000; text-decoration-color: #008000\">✓ | ⏱: </span><span style=\"color: #008000; text-decoration-color: #008000; font-weight: bold\">3.</span><span style=\"color: #008000; text-decoration-color: #008000\">68s </span>\n",
       "</pre>\n"
      ],
      "text/plain": [
       "\u001b[1;32m[\u001b[0m\u001b[32mFETCH\u001b[0m\u001b[1;32m]\u001b[0m\u001b[32m...\u001b[0m\u001b[32m ↓ \u001b[0m\u001b[4;32mhttps://www.google.com/search?\u001b[0m\u001b[4;32mq\u001b[0m\u001b[4;32m=\u001b[0m\u001b[4;32mtravel\u001b[0m\u001b[4;32m+card+site:pantip.com+after:2024&\u001b[0m\u001b[4;32mstart\u001b[0m\u001b[4;32m=\u001b[0m\u001b[4;32m10\u001b[0m\u001b[32m                      |\u001b[0m\n",
       "\u001b[32m✓\u001b[0m\u001b[32m | ⏱: \u001b[0m\u001b[1;32m3.\u001b[0m\u001b[32m68s \u001b[0m\n"
      ]
     },
     "metadata": {},
     "output_type": "display_data"
    },
    {
     "data": {
      "text/html": [
       "<pre style=\"white-space:pre;overflow-x:auto;line-height:normal;font-family:Menlo,'DejaVu Sans Mono',consolas,'Courier New',monospace\"><span style=\"color: #008000; text-decoration-color: #008000; font-weight: bold\">[</span><span style=\"color: #008000; text-decoration-color: #008000\">SCRAPE</span><span style=\"color: #008000; text-decoration-color: #008000; font-weight: bold\">]</span><span style=\"color: #008000; text-decoration-color: #008000\">.. ◆ </span><span style=\"color: #008000; text-decoration-color: #008000; text-decoration: underline\">https://www.google.com/search?q=travel+card+site:pantip.com+after:2024&amp;start=10</span><span style=\"color: #008000; text-decoration-color: #008000\">                      |</span>\n",
       "<span style=\"color: #008000; text-decoration-color: #008000\">✓ | ⏱: </span><span style=\"color: #008000; text-decoration-color: #008000; font-weight: bold\">0.</span><span style=\"color: #008000; text-decoration-color: #008000\">03s </span>\n",
       "</pre>\n"
      ],
      "text/plain": [
       "\u001b[1;32m[\u001b[0m\u001b[32mSCRAPE\u001b[0m\u001b[1;32m]\u001b[0m\u001b[32m.. ◆ \u001b[0m\u001b[4;32mhttps://www.google.com/search?\u001b[0m\u001b[4;32mq\u001b[0m\u001b[4;32m=\u001b[0m\u001b[4;32mtravel\u001b[0m\u001b[4;32m+card+site:pantip.com+after:2024&\u001b[0m\u001b[4;32mstart\u001b[0m\u001b[4;32m=\u001b[0m\u001b[4;32m10\u001b[0m\u001b[32m                      |\u001b[0m\n",
       "\u001b[32m✓\u001b[0m\u001b[32m | ⏱: \u001b[0m\u001b[1;32m0.\u001b[0m\u001b[32m03s \u001b[0m\n"
      ]
     },
     "metadata": {},
     "output_type": "display_data"
    },
    {
     "data": {
      "text/html": [
       "<pre style=\"white-space:pre;overflow-x:auto;line-height:normal;font-family:Menlo,'DejaVu Sans Mono',consolas,'Courier New',monospace\"><span style=\"color: #008000; text-decoration-color: #008000; font-weight: bold\">[</span><span style=\"color: #008000; text-decoration-color: #008000\">EXTRACT</span><span style=\"color: #008000; text-decoration-color: #008000; font-weight: bold\">]</span><span style=\"color: #008000; text-decoration-color: #008000\">. ■ </span><span style=\"color: #008000; text-decoration-color: #008000; text-decoration: underline\">https://www.google.com/search?q=travel+card+site:pantip.com+after:2024&amp;start=10</span><span style=\"color: #008000; text-decoration-color: #008000\">                      |</span>\n",
       "<span style=\"color: #008000; text-decoration-color: #008000\">✓ | ⏱: </span><span style=\"color: #008000; text-decoration-color: #008000; font-weight: bold\">0.</span><span style=\"color: #008000; text-decoration-color: #008000\">02s </span>\n",
       "</pre>\n"
      ],
      "text/plain": [
       "\u001b[1;32m[\u001b[0m\u001b[32mEXTRACT\u001b[0m\u001b[1;32m]\u001b[0m\u001b[32m. ■ \u001b[0m\u001b[4;32mhttps://www.google.com/search?\u001b[0m\u001b[4;32mq\u001b[0m\u001b[4;32m=\u001b[0m\u001b[4;32mtravel\u001b[0m\u001b[4;32m+card+site:pantip.com+after:2024&\u001b[0m\u001b[4;32mstart\u001b[0m\u001b[4;32m=\u001b[0m\u001b[4;32m10\u001b[0m\u001b[32m                      |\u001b[0m\n",
       "\u001b[32m✓\u001b[0m\u001b[32m | ⏱: \u001b[0m\u001b[1;32m0.\u001b[0m\u001b[32m02s \u001b[0m\n"
      ]
     },
     "metadata": {},
     "output_type": "display_data"
    },
    {
     "data": {
      "text/html": [
       "<pre style=\"white-space:pre;overflow-x:auto;line-height:normal;font-family:Menlo,'DejaVu Sans Mono',consolas,'Courier New',monospace\"><span style=\"color: #008000; text-decoration-color: #008000; font-weight: bold\">[</span><span style=\"color: #008000; text-decoration-color: #008000\">COMPLETE</span><span style=\"color: #008000; text-decoration-color: #008000; font-weight: bold\">]</span><span style=\"color: #008000; text-decoration-color: #008000\"> ● </span><span style=\"color: #008000; text-decoration-color: #008000; text-decoration: underline\">https://www.google.com/search?q=travel+card+site:pantip.com+after:2024&amp;start=10</span><span style=\"color: #008000; text-decoration-color: #008000\">                      |</span>\n",
       "<span style=\"color: #008000; text-decoration-color: #008000\">✓ | ⏱: </span><span style=\"color: #008000; text-decoration-color: #008000; font-weight: bold\">3.</span><span style=\"color: #008000; text-decoration-color: #008000\">73s </span>\n",
       "</pre>\n"
      ],
      "text/plain": [
       "\u001b[1;32m[\u001b[0m\u001b[32mCOMPLETE\u001b[0m\u001b[1;32m]\u001b[0m\u001b[32m ● \u001b[0m\u001b[4;32mhttps://www.google.com/search?\u001b[0m\u001b[4;32mq\u001b[0m\u001b[4;32m=\u001b[0m\u001b[4;32mtravel\u001b[0m\u001b[4;32m+card+site:pantip.com+after:2024&\u001b[0m\u001b[4;32mstart\u001b[0m\u001b[4;32m=\u001b[0m\u001b[4;32m10\u001b[0m\u001b[32m                      |\u001b[0m\n",
       "\u001b[32m✓\u001b[0m\u001b[32m | ⏱: \u001b[0m\u001b[1;32m3.\u001b[0m\u001b[32m73s \u001b[0m\n"
      ]
     },
     "metadata": {},
     "output_type": "display_data"
    }
   ],
   "source": [
    "urls = await scraper.search.search_from_url(\n",
    "  #\"https://pantip.com/search?q=travel%20card&timebias=true\",\n",
    "  #\"https://www.google.com/search?q=travel+card&tbs=qdr:y\" #&tbs=li:1\",\n",
    "  \"https://www.google.com/search?q=travel+card+site:pantip.com+after:2024\",\n",
    "  #extraction_schema={\n",
    "  #  \"baseSelector\": \"li.pt-list-item.pt-list-item__sr__no-img\",\n",
    "  #  \"fields\": [{\"name\": \"url\", \"selector\": \"a\", \"type\": \"attribute\", \"attribute\": \"href\"},],\n",
    "  #},\n",
    "  provider=\"google\",\n",
    "  max_results=None,\n",
    "  return_schema=True,\n",
    "  max_paginate=3,\n",
    ")"
   ]
  },
  {
   "cell_type": "code",
   "execution_count": 12,
   "id": "3a58d4dc",
   "metadata": {},
   "outputs": [
    {
     "data": {
      "text/plain": [
       "[{'url': 'https://pantip.com/topic/43390873',\n",
       "  'title': 'อยากทำบัตร travel card มีของธนาคารไหนแนะนำบ้างครับ',\n",
       "  'related_content': 'อยากทำบัตร travel card มีของธนาคารไหนแนะนำบ้างครับPantiphttps://pantip.com› topicPantiphttps://pantip.com› topic14 เม.ย. 2568—ส่วนตัวชอบของyoutripมากที่สุดครับ รูดแล้วเห็นยอดทันทีแสดงอัตราแลกเปลี่ยนทันทีในแอพ โหลดแอพyoutripแล้วสมัครเปิดบัตรได้เลย ผูกกับบัญชีธนาคารกสิกรไทย จะใช้ก็โอนเงินเข้าแอพ ใช้ไม่หมดเงินเหลือก็โอน\\xa0...'},\n",
       " {'url': 'https://pantip.com/topic/43314705',\n",
       "  'title': 'บัตร Travel Card ที่สามารถรูดใช้ที่ต่างประเทศโดยไม่ต้องแลกเงิน ...',\n",
       "  'related_content': 'บัตร Travel Card ที่สามารถรูดใช้ที่ต่างประเทศโดยไม่ต้องแลกเงิน ...Pantiphttps://pantip.com› topicPantiphttps://pantip.com› topic13 มี.ค. 2568—บัตร Travel Card ที่สามารถรูดใช้ที่ต่างประเทศโดยไม่ต้องแลกเงินล่วงหน้ามีแค่ Youtrip ใช่ไหมครับ? บัตร Krungsri Boarding Card แจ้งว่า ต้องแลกเงินสกุลนั้น ๆ ไว้ให้เพียงพอเท่านั้น ถ้าจำเนินเงินสกุล\\xa0...'},\n",
       " {'url': 'https://pantip.com/topic/43683086',\n",
       "  'title': 'แนะนําบัตร travel card หน่อยค่ะ ใบไหนที่สะดวกสำหรับคุณ',\n",
       "  'related_content': 'แนะนําบัตร travel card หน่อยค่ะ ใบไหนที่สะดวกสำหรับคุณPantiphttps://pantip.com› topicPantiphttps://pantip.com› topic7 วันที่ผ่านมา—-travel card กรุงศรีบรอดดิ้งคาร์ด แลกเงินจีนเรทดีสุด- travel card Youtrip กดเงินสดตู้ ATM ธ.ICBC , Bank of China ฟรีค่าธรรมเนียมกดเงิน - บัตรเครดิต ICBC UnionPay ไม่มีค่า FX'},\n",
       " {'url': 'https://pantip.com/topic/43299797',\n",
       "  'title': 'เทคนิคการใช้บัตร Travel card แทนบัตรเครดิตในต่างประเทศ',\n",
       "  'related_content': 'เทคนิคการใช้บัตร Travel card แทนบัตรเครดิตในต่างประเทศPantiphttps://pantip.com› topicPantiphttps://pantip.com› topic6 มี.ค. 2568—ถ้าคุณกำลังตั้งคำถามในใจ จะถือบัตรไหนดี... ผมแนะนำให้ถือ ตามบัญชีธนาคารที่คุณใช้อยู่ครับ ใช้ธนาคารไหนอยู่ ก็เลือกบัตรนั้นครับ หากคุณไม่ได้จะตั้งงบค่าใช้จ่าย หลักหลายหมื่น ถึง หลักแสน.. คุณไม่จำเป็นต้อง\\xa0...'},\n",
       " {'url': 'https://pantip.com/topic/43683086/desktop',\n",
       "  'title': 'แนะนําบัตร travel card หน่อยค่ะ ใบไหนที่สะดวกสำหรับคุณ',\n",
       "  'related_content': 'แนะนําบัตร travel card หน่อยค่ะ ใบไหนที่สะดวกสำหรับคุณPantiphttps://pantip.com› topic › desktopPantiphttps://pantip.com› topic › desktop2 ม.ค. 2568—ตามหัวข้อเลยค่ะ ตอนนี้มี youtrip 1ใบค่ะ พอดีจะทำไว้อีกใบเผื่อเกิดเหตุขัดข้องขึ้น มองๆ ของ unionpay กรุงไทยไว้ค่ะ ชอบไปจีนเลยจะทำไว้ค่ะ ของค่ายอื่นๆ แนะนำได้นะคะ.'},\n",
       " {'url': 'https://pantip.com/topic/43301394',\n",
       "  'title': 'มีใครใช้บัตรเสริม Travel Card ของกรุงไทยบ้างคะ',\n",
       "  'related_content': 'มีใครใช้บัตรเสริม Travel Card ของกรุงไทยบ้างคะPantiphttps://pantip.com› topicPantiphttps://pantip.com› topic7 มี.ค. 2568—ทั้งนี้ เงื่อนไขการสมัครใช้งานแอปพลิเคชัน Krungthai NEXT จะต้องมี อายุ 15 ปีขึ้นไปนะคะ สามารถติดต่อสอบถามข้อมูลโดยตรงได้ที่Travel CardKrungthai Contact Center 02-111-1117 ได้ตลอด 24\\xa0...'},\n",
       " {'url': 'https://pantip.com/topic/43463515',\n",
       "  'title': 'บัตร travel card ค่ายไหนที่ใช้ดีเท่าyoutrip หรือใกล้เคียงไหมครับ?',\n",
       "  'related_content': 'บัตร travel card ค่ายไหนที่ใช้ดีเท่าyoutrip หรือใกล้เคียงไหมครับ?Pantiphttps://pantip.com› topicPantiphttps://pantip.com› topic12 พ.ค. 2568—Youtrip นี่ดีแล้วเหรอ เรามีเกือบหมดเลย เราว่า ของกรุงศรี ดีสุด เรทดีกว่านิดหน่อย ใช้ตปท เหมือนกัน เราเลือก เรทดีกว่านิดหน่อย ของสีเขียว Journey เข้า เล้าจ์ ได้ปีละครั้ง อันนี้ก็ใช้เหมือนกัน ไม่ต้องแลก\\xa0...'},\n",
       " {'url': 'https://pantip.com/topic/43410395',\n",
       "  'title': 'บัตร travel card ของ SCB กับ KBANK มีสาขาไหนที่สมัครแล้วได้ ...',\n",
       "  'related_content': 'บัตร travel card ของ SCB กับ KBANK มีสาขาไหนที่สมัครแล้วได้ ...Pantiphttps://pantip.com› topicPantiphttps://pantip.com› topic22 เม.ย. 2568—สวัสดีค่ะ คุณสมาชิกหมายเลข 5447246 สำหรับบัตร Planet เงื่อนไขการสมัครผ่านสาขาแบบรับทันที 13 สาขาค่ะ - สาขารัชโยธิน [0111] - สาขาเซ็นทรัล พระราม 2 [0156]'},\n",
       " {'url': 'https://pantip.com/topic/43535052',\n",
       "  'title': 'สงสัยเรื่อง travel card + suica + IC ครับ',\n",
       "  'related_content': 'สงสัยเรื่อง travel card + suica + IC ครับPantiphttps://pantip.com› topicPantiphttps://pantip.com› topic3 มิ.ย. 2568—Travel Card -สามารถอายัดบัตรผ่านแอพของบัตรได้เลยครับ- ควรมีอย่างน้อย 2 ใบครับ กระจายเงินเผื่อไว้ก็ดี เรื่องโอนเงินให้กันอาจไม่ได้ แนะนำแลกคืนเป็นเงินไทยเข้าธนาคารปแล้วค่อยโอนหากันแล้วแลกเป็น\\xa0...'},\n",
       " {'url': 'https://pantip.com/topic/43196253',\n",
       "  'title': 'Travel Card ของธนาคารไหนบ้างครับที่คนต่างชาติสามารถสมัคร ...',\n",
       "  'related_content': 'Travel Card ของธนาคารไหนบ้างครับที่คนต่างชาติสามารถสมัคร ...Pantiphttps://pantip.com› topicPantiphttps://pantip.com› topic11 ม.ค. 2568—ธนาคารที่สามารถสมัครบัตรTravel Cardสำหรับชาวต่างชาติในไทย ได้แก่ 1. SCB Planet SCB Card (SCB) 2. KBank JourneyTravel Card(KBank) 3. Krungsri Boarding Card (Krungsri)'},\n",
       " {'url': 'https://pantip.com/topic/43312602',\n",
       "  'title': 'บัตร Krungthai Travel Card',\n",
       "  'related_content': 'บัตร Krungthai Travel CardPantiphttps://pantip.com› topicPantiphttps://pantip.com› topic12 มี.ค. 2568—พอดีผมมีแผนที่จะไปเที่ยวประเทศมาเลเซีย อยากถามผู้รู้หน่อยว่า บัตรนี้สามารถไปใช้ในประเทศมาเลเซียได้ไหม ซึ่งในบัตรบอกว่า แลกเงินเรทดี 20 สกุลเงิน แต่ไม่มีสกุลเงินมาเลเซีย แล้วที่นี้\\xa0...'},\n",
       " {'url': 'https://pantip.com/topic/42406034/desktop',\n",
       "  'title': 'Travel card ที่ฟรีค่าธรรมเนียมรายปี ต่ออายุออกบัตรฟรีไหม',\n",
       "  'related_content': 'Travel card ที่ฟรีค่าธรรมเนียมรายปี ต่ออายุออกบัตรฟรีไหมPantiphttps://pantip.com› topic › desktopPantiphttps://pantip.com› topic › desktop1 มิ.ย. 2568—Travel card ที่ฟรีค่าธรรมเนียมรายปีเช่น Krungsri Boarding Card (อายุ 2 ปี), PLANET SCB Card (อายุ 3 ปี), YouTrip (อายุ 3 ปี) เมื่อบัตรหมดอายุ ต้องแจ้งธนาคารไหม แล้วออกบัตรฟรีไหม.'},\n",
       " {'url': 'https://pantip.com/topic/41837494/desktop',\n",
       "  'title': 'ใช้พวก travel card กดเงินปอนด์จากตู้ ATM ที่อังกฤษ มี ...',\n",
       "  'related_content': 'ใช้พวก travel card กดเงินปอนด์จากตู้ ATM ที่อังกฤษ มี ...Pantiphttps://pantip.com› topic › desktopPantiphttps://pantip.com› topic › desktop30 มิ.ย. 2568—ขอรบกวนถามเทคนิคการใช้บัตรTravel cardในต่างประเทศครับ 1. เราสามารถเติมเงินบาทไว้ในบัตร (โดยไม่ต้องแลก) พอไปต่างประเทศก็ใช้บัตรรูดจ่ายได้เลย บัตรจะหักเงินบาทไปเท่าไหร่.'},\n",
       " {'url': 'https://pantip.com/topic/43028078',\n",
       "  'title': 'ขอบ่นเกี่ยวกับบัตร Travel Card ธ.กรุงไทยสักเล็กน้อย',\n",
       "  'related_content': 'ขอบ่นเกี่ยวกับบัตร Travel Card ธ.กรุงไทยสักเล็กน้อยPantiphttps://pantip.com› topicPantiphttps://pantip.com› topic16 มิ.ย. 2568—เป็นข้อจำกัดของตัวบัตร รุ่น Visa ครับ เป็นแบบนี้มาตั้งแต่ version แรกแล้วครับ และด้วยข้อจำกัดนี้ ผมเลยหันไปใช้ Youtrip / boardingcardแทนมาตลอด แต่ตอนนี้ เค้าออกรุ่นใหม่เป็น MasterCard...'},\n",
       " {'url': 'https://pantip.com/topic/39239079/desktop',\n",
       "  'title': 'SCB Planet หรือ Krungthai travel Card ถ้าเอาไปใช้รูดที่อินเดีย ...',\n",
       "  'related_content': 'SCB Planet หรือ Krungthai travel Card ถ้าเอาไปใช้รูดที่อินเดีย ...Pantiphttps://pantip.com› topic › desktopPantiphttps://pantip.com› topic › desktop1 ส.ค. 2568—จาก ข้อนี้ แต่อ่าน ในเว็บบอร์ดในกระทู้ต่างๆ SCB มาตอบว่า ไม่มีค่าธรรมเนียม 2.5% แต่ใช้ เรทกลาง ของVisa แทน ถ้ากดเงิน เสีย 100 +ค่าธรรมเนียมตามตู้ ATM ผมเข้าใจถู.'},\n",
       " {'url': 'https://pantip.com/topic/43034193/desktop',\n",
       "  'title': 'บัตร Krungthai Travel Platinum Master Card Debit แตกต่าง ...',\n",
       "  'related_content': 'บัตร Krungthai Travel Platinum Master Card Debit แตกต่าง ...Pantiphttps://pantip.com› topic › desktopPantiphttps://pantip.com› topic › desktop10 พ.ค. 2568—Travel Platinum Mastercard Debit- ใช้ได้ในไทย - ค่าธรรมเนียมถูกกว่า ปีละ 250บาท - เครดิตเงินคืน ไม่เกิน 0.5% ต่อปี (maximum ที่ 1000 บาท) เมื่อใช้รูดที่ ตปท 30,000 บาท/เดือน - กด\\xa0...'},\n",
       " {'url': 'https://pantip.com/topic/43390331',\n",
       "  'title': 'ไปเที่ยว“เซี่ยงไฮ้” ควรแลกเงินสดติดตัวไปไหมคะ หรือ พกแต่ ...',\n",
       "  'related_content': 'ไปเที่ยว“เซี่ยงไฮ้” ควรแลกเงินสดติดตัวไปไหมคะ หรือ พกแต่ ...Pantiphttps://pantip.com› topicPantiphttps://pantip.com› topic1 พ.ค. 2568—ไปกับทัวร์พกเงินสดติดไปซัก 500 หยวนก็พอแล้วครับ จีนไม่ค่อยรับtravel cardแบบแตะจ่าย ทางที่ดีผูกบัตรtravel cardไว้กับ alipay แล้วสแกนจ่ายชัวร์ที่สุดครับ\\xa0...'},\n",
       " {'url': 'https://pantip.com/topic/43276953',\n",
       "  'title': 'บัตร Travel card ใดมีสกุลเงินริงกิต มาเลเซีย',\n",
       "  'related_content': 'บัตร Travel card ใดมีสกุลเงินริงกิต มาเลเซียPantiphttps://pantip.com› topicPantiphttps://pantip.com› topic26 ก.พ. 2568—บัตร Travel cardไม่จำเป็นต้องแลกเงินประเทศนั้นไว้ก่อน ยกเว้นเถ้าห็นค่าเงินถูก เพราะทุกบัตร จะออกโดย Visa หรือ Master เมื่อมีเงินบาทในบัตร เมื่อใช้จ่ายก็จะใช้เรทแลกเปลี่ยนของค่ายนั้นครับ\\xa0...'},\n",
       " {'url': 'https://pantip.com/topic/43672653',\n",
       "  'title': 'บัตร travel card กรุงไทย',\n",
       "  'related_content': 'บัตร travel card กรุงไทยPantiphttps://pantip.com› topicPantiphttps://pantip.com› topic8 ส.ค. 2568—สวัสดีค่ะ คุณสมาชิกหมายเลข 2041489บัตร travel card กรุงไทย ปัจจุบัน สามารถกด ตู้ atm ในประเทศไทยได้ค่ะ ขอบคุณค่ะ. 0. 0. ∨ ดู 2 ความเห็นย่อย ∨. ความคิดเห็นที่ 1-1.'},\n",
       " {'url': 'https://pantip.com/topic/43694743',\n",
       "  'title': 'สอบถามบัตร travel card ตัวใหม่ของกรุงไทยครับ',\n",
       "  'related_content': 'สอบถามบัตร travel card ตัวใหม่ของกรุงไทยครับPantiphttps://pantip.com› topicPantiphttps://pantip.com› topic9 ชั่วโมงที่ผ่านมา—Krungthai Travel Card Visa สู่ Mastercardกับสกุลเงินบางสกุลเงินที่หายไป ... บัตร Krungthai Travel Platinum Master Card Debit แตกต่างกับ Krungthai Travel Premium Master Card\\xa0...'},\n",
       " {'url': 'https://pantip.com/topic/41772621/desktop',\n",
       "  'title': 'บัตรพวก travel card ถ้าใช้รูดที่ต่างประเทศ แล้วต้องใส่รหัส มันคือ ...',\n",
       "  'related_content': 'บัตรพวก travel card ถ้าใช้รูดที่ต่างประเทศ แล้วต้องใส่รหัส มันคือ ...Pantiphttps://pantip.com› topic › desktopPantiphttps://pantip.com› topic › desktop12 ส.ค. 2568—ตามหัวข้อเลยค่ะ พอดีทำบัตรtravel cardแล้ว ใส่เงินเรียบร้อย เป็นของอเมริกาค่ะ เวลากดที่ตู้ของอเมริกาต้องกดรหัสอะไรคะ รหัสที่เราเปลี่ยนหน้าตู้6ตัว หรือว่าแค่4ตัวหรือ/4ตัวหลัง คะ รบกวนหน่อยค่ะ จะไปแลก\\xa0...'},\n",
       " {'url': 'https://pantip.com/topic/39529324/desktop',\n",
       "  'title': 'แชร์ปัญหาใช้บัตรเดบิท Kbank Journey ในต่างประเทศ (สิงคโปร์) ...',\n",
       "  'related_content': 'แชร์ปัญหาใช้บัตรเดบิท Kbank Journey ในต่างประเทศ (สิงคโปร์) ...Pantiphttps://pantip.com› topic › desktopPantiphttps://pantip.com› topic › desktop1 ส.ค. 2568—ต้องไปทำงานที่สิงคโปร์ 1 เดือน รอบนี้กะว่าถ้าใช้Travel Cardขึ้น Public Trasport ต่างๆได้โดยไม่ต้องจ่ายค่าบริการเพิ่มเติม 0.5 SGD/วัน ก็จะไม่แลก EZ Link ค่ะ จะได้พกแค่Travel Cardใบเดียวไป\\xa0...'},\n",
       " {'url': 'https://pantip.com/topic/43694743/desktop',\n",
       "  'title': 'สอบถามบัตร travel card ตัวใหม่ของกรุงไทยครับ',\n",
       "  'related_content': 'สอบถามบัตร travel card ตัวใหม่ของกรุงไทยครับPantiphttps://pantip.com› topic › desktopPantiphttps://pantip.com› topic › desktop9 ชั่วโมงที่ผ่านมา—-ได้บัตรจริง ไม่ใช่ virtual card- ผูกบัตรกับบัญชี Paypal ได้ - รูดซื้อของที่ ตปท ได้ - ไม่ต้องใช้งานผูกติดกับแอปธนาคาร · สมาชิกหมายเลข 2992959 · บัตรกรุงไทยTravel Platinum mastercard\\xa0...'},\n",
       " {'url': 'https://pantip.com/topic/39252816/desktop',\n",
       "  'title': 'โปรดระวัง !! การใช้บัตร Krungthai Travel card รูดเติมน้ำมันแบบ ...',\n",
       "  'related_content': 'โปรดระวัง !! การใช้บัตร Krungthai Travel card รูดเติมน้ำมันแบบ ...Pantiphttps://pantip.com› topic › desktopPantiphttps://pantip.com› topic › desktop3 ส.ค. 2568—เพิ่งไปเที่ยวญี่ปุ่นใช้บัตร KrungthaiTravel Cardเป็นหลักค่ะ แวะปั๊มเติมน้ำมันรถเช่าก็ใช้บัตรเดิม พอเช็คยอดใน app krungthai next ปรากฏว่าโดนตัดเงิน ¥3,500 จำนวน 2 ครั้ง รวมเป็น ¥7,000 แต่ค่าน.'},\n",
       " {'url': 'https://pantip.com/topic/43556052/desktop',\n",
       "  'title': 'อยากทราบว่าบัตรดิจิตอลของ Krungthai travel card สามารถซื้อ ...',\n",
       "  'related_content': 'อยากทราบว่าบัตรดิจิตอลของ Krungthai travel card สามารถซื้อ ...Pantiphttps://pantip.com› topic › desktopPantiphttps://pantip.com› topic › desktop11 มิ.ย. 2568—ด้วยอยากซื้อของออนไลน์จากเว็บๆหนึ่ง แต่เป็นค่าเงินลีราตุรกี มีแต่บัตรดิจิตอล ของ Krungthaitravel cardแต่พอไปดูค่าเงินที่รองรับไม่มีค่าเงินลีนาตุรกี เลยลองไปถามGPT ดู มันบอกว่า\\xa0...'},\n",
       " {'url': 'https://pantip.com/topic/43251925',\n",
       "  'title': 'เที่ยวจีน ระหว่าง Travel Card กับ บัตรเครดิต ทุกหนึ่งหมื่นบาท จะ ...',\n",
       "  'related_content': 'เที่ยวจีน ระหว่าง Travel Card กับ บัตรเครดิต ทุกหนึ่งหมื่นบาท จะ ...Pantiphttps://pantip.com› topicPantiphttps://pantip.com› topic9 ก.พ. 2568—Travel Card 1CNY= 4.66THBถ้าซื้อเงินเก็บไว้ ก็จะได้เรทที้ซื้อไว้ แต่บัตรต้องรองรับสกุลเงินด้วย แต่ถ้าไม่ได้ซื้อ ก็ได้เรท ประจำวัน อย่างคุณแรกเก็บวันนี้ 4.66 แต่ไปถึง เรทประจำวันขึ้นไป 4.80 คุณก็ใช้จ่ายใน\\xa0...'},\n",
       " {'url': 'https://pantip.com/topic/43242507/desktop',\n",
       "  'title': 'ไปเที่ยวจีน ใช้ alipay+บัตรกรุงไทย unionpay หรือ youtrip ดีครับ',\n",
       "  'related_content': 'ไปเที่ยวจีน ใช้ alipay+บัตรกรุงไทย unionpay หรือ youtrip ดีครับPantiphttps://pantip.com› topic › desktopPantiphttps://pantip.com› topic › desktop4 ก.พ. 2568—จะไปเที่ยวจีน 5 วัน (ไปกับทัวร์) จะใช้จ่าย-ซื้อของ ควรใช้ Alipay ที่ผูกกับบัตรเครดิตกรุงไทย Unionpay (ที่บอกว่า ซื้อของเกิน 200 หยวนแล้วไม่เสียค่าธรรมเนียม 3%)'},\n",
       " {'url': 'https://pantip.com/topic/42436671',\n",
       "  'title': 'เที่ยวจีน ใช้ Alipay ผูกกับบัตรเครดิต กับ จ่ายด้วย TrueMoney ...',\n",
       "  'related_content': 'เที่ยวจีน ใช้ Alipay ผูกกับบัตรเครดิต กับ จ่ายด้วย TrueMoney ...Pantiphttps://pantip.com› topicPantiphttps://pantip.com› topic3 ส.ค. 2568—ใช้ผูกกับพวกTravel Cardแบบต่างๆจะดีที่สุดครับ มันคือรูปแบบของบัตรเดบิตการ์ด ต้องเติมเงินบาทเข้าไปไว้ก่อน ลองสอบถามได้จากธนาคารเลย เพราะมีหลายธนาคารที่มีบริการอยู่'},\n",
       " {'url': 'https://pantip.com/topic/43401004',\n",
       "  'title': 'True money+Alipay+SCB Planet Card จ่ายเงินหยวน ถ้าใส่ ...',\n",
       "  'related_content': 'True money+Alipay+SCB Planet Card จ่ายเงินหยวน ถ้าใส่ ...Pantiphttps://pantip.com› topicPantiphttps://pantip.com› topic18 เม.ย. 2568—โหลดแอป Alipay แล้วผูกบัตรTravel Cardดีกว่า เพราะ true money จะมี +เพิ่มจากเรท ประมาณ 1%+ ไม่เหมือนตัดจากTravel Cardไม่มีบวกเพิ่มครับ ปล. Alipay ถ้าเกิน\\xa0...'}]"
      ]
     },
     "execution_count": 12,
     "metadata": {},
     "output_type": "execute_result"
    }
   ],
   "source": [
    "urls"
   ]
  },
  {
   "cell_type": "code",
   "execution_count": 13,
   "id": "5735476d",
   "metadata": {},
   "outputs": [],
   "source": [
    "import polars as pl"
   ]
  },
  {
   "cell_type": "code",
   "execution_count": 14,
   "id": "bf5a89de",
   "metadata": {},
   "outputs": [
    {
     "data": {
      "text/html": [
       "<div><style>\n",
       ".dataframe > thead > tr,\n",
       ".dataframe > tbody > tr {\n",
       "  text-align: right;\n",
       "  white-space: pre-wrap;\n",
       "}\n",
       "</style>\n",
       "<small>shape: (29, 3)</small><table border=\"1\" class=\"dataframe\"><thead><tr><th>url</th><th>title</th><th>related_content</th></tr><tr><td>str</td><td>str</td><td>str</td></tr></thead><tbody><tr><td>&quot;https://pantip.com/topic/43390…</td><td>&quot;อยากทำบัตร travel card มีของธน…</td><td>&quot;อยากทำบัตร travel card มีของธน…</td></tr><tr><td>&quot;https://pantip.com/topic/43314…</td><td>&quot;บัตร Travel Card ที่สามารถรูดใ…</td><td>&quot;บัตร Travel Card ที่สามารถรูดใ…</td></tr><tr><td>&quot;https://pantip.com/topic/43683…</td><td>&quot;แนะนําบัตร travel card หน่อยค่…</td><td>&quot;แนะนําบัตร travel card หน่อยค่…</td></tr><tr><td>&quot;https://pantip.com/topic/43299…</td><td>&quot;เทคนิคการใช้บัตร Travel card แ…</td><td>&quot;เทคนิคการใช้บัตร Travel card แ…</td></tr><tr><td>&quot;https://pantip.com/topic/43683…</td><td>&quot;แนะนําบัตร travel card หน่อยค่…</td><td>&quot;แนะนําบัตร travel card หน่อยค่…</td></tr><tr><td>&hellip;</td><td>&hellip;</td><td>&hellip;</td></tr><tr><td>&quot;https://pantip.com/topic/43556…</td><td>&quot;อยากทราบว่าบัตรดิจิตอลของ Krun…</td><td>&quot;อยากทราบว่าบัตรดิจิตอลของ Krun…</td></tr><tr><td>&quot;https://pantip.com/topic/43251…</td><td>&quot;เที่ยวจีน ระหว่าง Travel Card …</td><td>&quot;เที่ยวจีน ระหว่าง Travel Card …</td></tr><tr><td>&quot;https://pantip.com/topic/43242…</td><td>&quot;ไปเที่ยวจีน ใช้ alipay+บัตรกรุ…</td><td>&quot;ไปเที่ยวจีน ใช้ alipay+บัตรกรุ…</td></tr><tr><td>&quot;https://pantip.com/topic/42436…</td><td>&quot;เที่ยวจีน ใช้ Alipay ผูกกับบัต…</td><td>&quot;เที่ยวจีน ใช้ Alipay ผูกกับบัต…</td></tr><tr><td>&quot;https://pantip.com/topic/43401…</td><td>&quot;True money+Alipay+SCB Planet C…</td><td>&quot;True money+Alipay+SCB Planet C…</td></tr></tbody></table></div>"
      ],
      "text/plain": [
       "shape: (29, 3)\n",
       "┌────────────────────────────────┬────────────────────────────────┬────────────────────────────────┐\n",
       "│ url                            ┆ title                          ┆ related_content                │\n",
       "│ ---                            ┆ ---                            ┆ ---                            │\n",
       "│ str                            ┆ str                            ┆ str                            │\n",
       "╞════════════════════════════════╪════════════════════════════════╪════════════════════════════════╡\n",
       "│ https://pantip.com/topic/43390 ┆ อยากทำบัตร travel card มีของธน…  ┆ อยากทำบัตร travel card มีของธน…  │\n",
       "│ …                              ┆                                ┆                                │\n",
       "│ https://pantip.com/topic/43314 ┆ บัตร Travel Card ที่สามารถรูดใ…    ┆ บัตร Travel Card ที่สามารถรูดใ…    │\n",
       "│ …                              ┆                                ┆                                │\n",
       "│ https://pantip.com/topic/43683 ┆ แนะนําบัตร travel card หน่อยค่…    ┆ แนะนําบัตร travel card หน่อยค่…    │\n",
       "│ …                              ┆                                ┆                                │\n",
       "│ https://pantip.com/topic/43299 ┆ เทคนิคการใช้บัตร Travel card แ…   ┆ เทคนิคการใช้บัตร Travel card แ…   │\n",
       "│ …                              ┆                                ┆                                │\n",
       "│ https://pantip.com/topic/43683 ┆ แนะนําบัตร travel card หน่อยค่…    ┆ แนะนําบัตร travel card หน่อยค่…    │\n",
       "│ …                              ┆                                ┆                                │\n",
       "│ …                              ┆ …                              ┆ …                              │\n",
       "│ https://pantip.com/topic/43556 ┆ อยากทราบว่าบัตรดิจิตอลของ Krun…    ┆ อยากทราบว่าบัตรดิจิตอลของ Krun…    │\n",
       "│ …                              ┆                                ┆                                │\n",
       "│ https://pantip.com/topic/43251 ┆ เที่ยวจีน ระหว่าง Travel Card …    ┆ เที่ยวจีน ระหว่าง Travel Card …    │\n",
       "│ …                              ┆                                ┆                                │\n",
       "│ https://pantip.com/topic/43242 ┆ ไปเที่ยวจีน ใช้ alipay+บัตรกรุ…      ┆ ไปเที่ยวจีน ใช้ alipay+บัตรกรุ…      │\n",
       "│ …                              ┆                                ┆                                │\n",
       "│ https://pantip.com/topic/42436 ┆ เที่ยวจีน ใช้ Alipay ผูกกับบัต…       ┆ เที่ยวจีน ใช้ Alipay ผูกกับบัต…       │\n",
       "│ …                              ┆                                ┆                                │\n",
       "│ https://pantip.com/topic/43401 ┆ True money+Alipay+SCB Planet   ┆ True money+Alipay+SCB Planet   │\n",
       "│ …                              ┆ C…                             ┆ C…                             │\n",
       "└────────────────────────────────┴────────────────────────────────┴────────────────────────────────┘"
      ]
     },
     "execution_count": 14,
     "metadata": {},
     "output_type": "execute_result"
    }
   ],
   "source": [
    "pl.DataFrame(urls)"
   ]
  },
  {
   "cell_type": "code",
   "execution_count": 15,
   "id": "a9c93c64",
   "metadata": {},
   "outputs": [
    {
     "data": {
      "text/plain": [
       "<xlsxwriter.workbook.Workbook at 0x14fcd9f90>"
      ]
     },
     "execution_count": 15,
     "metadata": {},
     "output_type": "execute_result"
    }
   ],
   "source": [
    "pl.DataFrame(urls).write_excel('test.xlsx')"
   ]
  },
  {
   "cell_type": "code",
   "execution_count": 8,
   "id": "ddd2c925",
   "metadata": {},
   "outputs": [
    {
     "data": {
      "text/plain": [
       "10"
      ]
     },
     "execution_count": 8,
     "metadata": {},
     "output_type": "execute_result"
    }
   ],
   "source": [
    "len(urls)"
   ]
  },
  {
   "cell_type": "code",
   "execution_count": 9,
   "id": "6185b765",
   "metadata": {},
   "outputs": [],
   "source": [
    "#results = asyncio.run(scraper.search.search_keywords_all_platforms(keywords))\n",
    "#results"
   ]
  },
  {
   "cell_type": "code",
   "execution_count": 10,
   "id": "c247453e",
   "metadata": {},
   "outputs": [],
   "source": [
    "#result = asyncio.run(scraper.crawler.crawl_pantip_topic())\n",
    "#result"
   ]
  }
 ],
 "metadata": {
  "kernelspec": {
   "display_name": ".venv",
   "language": "python",
   "name": "python3"
  },
  "language_info": {
   "codemirror_mode": {
    "name": "ipython",
    "version": 3
   },
   "file_extension": ".py",
   "mimetype": "text/x-python",
   "name": "python",
   "nbconvert_exporter": "python",
   "pygments_lexer": "ipython3",
   "version": "3.13.1"
  }
 },
 "nbformat": 4,
 "nbformat_minor": 5
}
