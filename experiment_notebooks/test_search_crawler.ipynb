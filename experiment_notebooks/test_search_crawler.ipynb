{
 "cells": [
  {
   "cell_type": "code",
   "execution_count": null,
   "id": "9c7adce1",
   "metadata": {},
   "outputs": [],
   "source": [
    "from IPython.display import clear_output"
   ]
  },
  {
   "cell_type": "code",
   "execution_count": null,
   "id": "5cf6de61",
   "metadata": {},
   "outputs": [
    {
     "name": "stderr",
     "output_type": "stream",
     "text": [
      "[nltk_data] Downloading package punkt to /Users/pa/nltk_data...\n",
      "[nltk_data]   Package punkt is already up-to-date!\n",
      "[nltk_data] Downloading package punkt_tab to /Users/pa/nltk_data...\n",
      "[nltk_data]   Package punkt_tab is already up-to-date!\n",
      "[nltk_data] Downloading package stopwords to /Users/pa/nltk_data...\n",
      "[nltk_data]   Package stopwords is already up-to-date!\n"
     ]
    }
   ],
   "source": [
    "import sys\n",
    "import polars as pl\n",
    "#sys.path.append('/Users/pa/Local Documents/GitHub Repositories/Spellbook') #for macos\n",
    "sys.path.append('C:\\Users\\patom\\OneDrive\\Documents\\Repo\\Spellbook\\spellbook') # for windows\n",
    "from spellbook import scraper, utils as sb_utils\n",
    "import nest_asyncio, asyncio\n",
    "nest_asyncio.apply()"
   ]
  },
  {
   "cell_type": "code",
   "execution_count": null,
   "id": "5ca5f280",
   "metadata": {},
   "outputs": [],
   "source": [
    "keywords = [\n",
    "    \"travel card\",\n",
    "    \"บัตรเดบิต\",\n",
    "    \"โมบายแบงก์กิ้ง\",\n",
    "    \"กองทุน\",\n",
    "    \"ประกันชีวิต\",\n",
    "    \"ประกันภัย\",\n",
    "    \"บัตรกดเงินสด\",\n",
    "    \"บัตรเครดิต\",\n",
    "    \"สินเชื่อรถ\",\n",
    "    \"สินเชื่อบ้าน\",\n",
    "    \"สินเชื่อส่วนบุคคล\",\n",
    "    \"บัญชี\",\n",
    "    ]"
   ]
  },
  {
   "cell_type": "code",
   "execution_count": null,
   "id": "004e55a2",
   "metadata": {},
   "outputs": [
    {
     "data": {
      "text/plain": [
       "<xlsxwriter.workbook.Workbook at 0x13e3dc190>"
      ]
     },
     "execution_count": 16,
     "metadata": {},
     "output_type": "execute_result"
    }
   ],
   "source": [
    "site_list = [\n",
    "  'pantip.com',\n",
    "  'x.com',\n",
    "  'facebook.com',\n",
    "  'tiktok.com',\n",
    "  'twitter.com',\n",
    "  'instagram.com',\n",
    "]\n",
    "\n",
    "results_list = []\n",
    "\n",
    "for keyword in keywords:\n",
    "  for site in site_list:\n",
    "    keyword_mod = keyword.lower().replace(' ', '+')\n",
    "    google_search_url = f\"https://www.google.com/search?q={keyword_mod}+site:{site}+after:2024&as_epq={keyword_mod}\"\n",
    "    print(f'Crawling::{keyword_mod} Site::{site}\\n{google_search_url}')\n",
    "\n",
    "    results = await scraper.search.search_from_url(\n",
    "      google_search_url,\n",
    "      #extraction_schema={\n",
    "      #  \"baseSelector\": \"li.pt-list-item.pt-list-item__sr__no-img\",\n",
    "      #  \"fields\": [{\"name\": \"url\", \"selector\": \"a\", \"type\": \"attribute\", \"attribute\": \"href\"},],\n",
    "      #},\n",
    "      provider=\"google\",\n",
    "      max_results=None,\n",
    "      return_schema=True,\n",
    "      max_paginate=1,\n",
    "    )\n",
    "\n",
    "    # Add 'site' and 'keyword' to each result dict\n",
    "    for r in results:\n",
    "      r['site'] = site\n",
    "      r['keyword'] = keyword\n",
    "    results_list.extend(results)\n",
    "\n",
    "    # Clears the current cell output\n",
    "    clear_output(wait=True)\n",
    "\n",
    "df = pl.DataFrame(results_list)\n",
    "df = df.with_columns(\n",
    "    pl.col('date_string').map_elements(lambda s: sb_utils.datetime_processing.parse_thai_date(s), return_dtype=pl.Date).alias(\"parsed_date\"),\n",
    "    pl.col('url').map_elements(lambda u: sb_utils.hashing.hash_function(u.strip(), algo='md5'), return_dtype=pl.Utf8).alias(\"id\")\n",
    ")\n",
    "df.write_excel('.files/P_Mo_2025_Keywords_Search.xlsx')"
   ]
  },
  {
   "cell_type": "code",
   "execution_count": null,
   "id": "6185b765",
   "metadata": {},
   "outputs": [],
   "source": [
    "#results = asyncio.run(scraper.search.search_keywords_all_platforms(keywords))\n",
    "#results"
   ]
  },
  {
   "cell_type": "code",
   "execution_count": null,
   "id": "c247453e",
   "metadata": {},
   "outputs": [],
   "source": [
    "#result = asyncio.run(scraper.crawler.crawl_pantip_topic())\n",
    "#result"
   ]
  }
 ],
 "metadata": {
  "kernelspec": {
   "display_name": ".venv",
   "language": "python",
   "name": "python3"
  },
  "language_info": {
   "codemirror_mode": {
    "name": "ipython",
    "version": 3
   },
   "file_extension": ".py",
   "mimetype": "text/x-python",
   "name": "python",
   "nbconvert_exporter": "python",
   "pygments_lexer": "ipython3",
   "version": "3.11.9"
  }
 },
 "nbformat": 4,
 "nbformat_minor": 5
}
