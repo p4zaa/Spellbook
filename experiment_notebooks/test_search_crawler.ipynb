{
 "cells": [
  {
   "cell_type": "code",
   "execution_count": 1,
   "id": "9c7adce1",
   "metadata": {},
   "outputs": [],
   "source": [
    "from IPython.display import clear_output"
   ]
  },
  {
   "cell_type": "code",
   "execution_count": 2,
   "id": "5cf6de61",
   "metadata": {},
   "outputs": [
    {
     "name": "stderr",
     "output_type": "stream",
     "text": [
      "[nltk_data] Downloading package punkt to /Users/pa/nltk_data...\n",
      "[nltk_data]   Package punkt is already up-to-date!\n",
      "[nltk_data] Downloading package punkt_tab to /Users/pa/nltk_data...\n",
      "[nltk_data]   Package punkt_tab is already up-to-date!\n",
      "[nltk_data] Downloading package stopwords to /Users/pa/nltk_data...\n",
      "[nltk_data]   Package stopwords is already up-to-date!\n"
     ]
    }
   ],
   "source": [
    "import sys\n",
    "import polars as pl\n",
    "sys.path.append('/Users/pa/Local Documents/GitHub Repositories/Spellbook') #for macos\n",
    "#sys.path.append(r'C:\\Users\\patom\\OneDrive\\Documents\\Repo\\Spellbook') # for windows\n",
    "from spellbook import scraper, utils as sb_utils\n",
    "import nest_asyncio, asyncio\n",
    "nest_asyncio.apply()"
   ]
  },
  {
   "cell_type": "code",
   "execution_count": 3,
   "id": "b92bab81",
   "metadata": {},
   "outputs": [],
   "source": [
    "# For Windows, set SelectorEventLoop instead of ProactorEventLoop\n",
    "if hasattr(asyncio, \"WindowsSelectorEventLoopPolicy\"):\n",
    "    print(\"Setting WindowsSelectorEventLoopPolicy\")\n",
    "    asyncio.set_event_loop_policy(asyncio.WindowsSelectorEventLoopPolicy())"
   ]
  },
  {
   "cell_type": "code",
   "execution_count": 4,
   "id": "9f8184be",
   "metadata": {},
   "outputs": [
    {
     "name": "stdout",
     "output_type": "stream",
     "text": [
      "Crawling::travel+card Site::pantip.com\n",
      "https://www.google.com/search?q=travel+card+site:pantip.com+after:2024&as_epq=travel+card\n"
     ]
    },
    {
     "data": {
      "text/html": [
       "<pre style=\"white-space:pre;overflow-x:auto;line-height:normal;font-family:Menlo,'DejaVu Sans Mono',consolas,'Courier New',monospace\"><span style=\"color: #008080; text-decoration-color: #008080; font-weight: bold\">[</span><span style=\"color: #008080; text-decoration-color: #008080\">INIT</span><span style=\"color: #008080; text-decoration-color: #008080; font-weight: bold\">]</span><span style=\"color: #008080; text-decoration-color: #008080\">.... → Crawl4AI </span><span style=\"color: #008080; text-decoration-color: #008080; font-weight: bold\">0.7</span><span style=\"color: #008080; text-decoration-color: #008080\">.</span><span style=\"color: #008080; text-decoration-color: #008080; font-weight: bold\">4</span><span style=\"color: #008080; text-decoration-color: #008080\"> </span>\n",
       "</pre>\n"
      ],
      "text/plain": [
       "\u001b[1;36m[\u001b[0m\u001b[36mINIT\u001b[0m\u001b[1;36m]\u001b[0m\u001b[36m...\u001b[0m\u001b[36m. → Crawl4AI \u001b[0m\u001b[1;36m0.7\u001b[0m\u001b[36m.\u001b[0m\u001b[1;36m4\u001b[0m\u001b[36m \u001b[0m\n"
      ]
     },
     "metadata": {},
     "output_type": "display_data"
    },
    {
     "name": "stdout",
     "output_type": "stream",
     "text": [
      "   📝 Note: CrawlerMonitor disabled in Jupyter notebook environment\n"
     ]
    },
    {
     "data": {
      "text/html": [
       "<pre style=\"white-space:pre;overflow-x:auto;line-height:normal;font-family:Menlo,'DejaVu Sans Mono',consolas,'Courier New',monospace\"><span style=\"color: #008000; text-decoration-color: #008000; font-weight: bold\">[</span><span style=\"color: #008000; text-decoration-color: #008000\">FETCH</span><span style=\"color: #008000; text-decoration-color: #008000; font-weight: bold\">]</span><span style=\"color: #008000; text-decoration-color: #008000\">... ↓ </span><span style=\"color: #008000; text-decoration-color: #008000; text-decoration: underline\">https://www.google.com/search?q=travel+card+site:pantip.com+after:2024&amp;as_epq=travel+card&amp;start=10</span><span style=\"color: #008000; text-decoration-color: #008000\">   |</span>\n",
       "<span style=\"color: #008000; text-decoration-color: #008000\">✓ | ⏱: </span><span style=\"color: #008000; text-decoration-color: #008000; font-weight: bold\">6.</span><span style=\"color: #008000; text-decoration-color: #008000\">00s </span>\n",
       "</pre>\n"
      ],
      "text/plain": [
       "\u001b[1;32m[\u001b[0m\u001b[32mFETCH\u001b[0m\u001b[1;32m]\u001b[0m\u001b[32m...\u001b[0m\u001b[32m ↓ \u001b[0m\u001b[4;32mhttps://www.google.com/search?\u001b[0m\u001b[4;32mq\u001b[0m\u001b[4;32m=\u001b[0m\u001b[4;32mtravel\u001b[0m\u001b[4;32m+card+site:pantip.com+after:2024&\u001b[0m\u001b[4;32mas_epq\u001b[0m\u001b[4;32m=\u001b[0m\u001b[4;32mtravel\u001b[0m\u001b[4;32m+card&\u001b[0m\u001b[4;32mstart\u001b[0m\u001b[4;32m=\u001b[0m\u001b[4;32m10\u001b[0m\u001b[32m   |\u001b[0m\n",
       "\u001b[32m✓\u001b[0m\u001b[32m | ⏱: \u001b[0m\u001b[1;32m6.\u001b[0m\u001b[32m00s \u001b[0m\n"
      ]
     },
     "metadata": {},
     "output_type": "display_data"
    },
    {
     "data": {
      "text/html": [
       "<pre style=\"white-space:pre;overflow-x:auto;line-height:normal;font-family:Menlo,'DejaVu Sans Mono',consolas,'Courier New',monospace\"><span style=\"color: #008000; text-decoration-color: #008000; font-weight: bold\">[</span><span style=\"color: #008000; text-decoration-color: #008000\">SCRAPE</span><span style=\"color: #008000; text-decoration-color: #008000; font-weight: bold\">]</span><span style=\"color: #008000; text-decoration-color: #008000\">.. ◆ </span><span style=\"color: #008000; text-decoration-color: #008000; text-decoration: underline\">https://www.google.com/search?q=travel+card+site:pantip.com+after:2024&amp;as_epq=travel+card&amp;start=10</span><span style=\"color: #008000; text-decoration-color: #008000\">   |</span>\n",
       "<span style=\"color: #008000; text-decoration-color: #008000\">✓ | ⏱: </span><span style=\"color: #008000; text-decoration-color: #008000; font-weight: bold\">0.</span><span style=\"color: #008000; text-decoration-color: #008000\">05s </span>\n",
       "</pre>\n"
      ],
      "text/plain": [
       "\u001b[1;32m[\u001b[0m\u001b[32mSCRAPE\u001b[0m\u001b[1;32m]\u001b[0m\u001b[32m.. ◆ \u001b[0m\u001b[4;32mhttps://www.google.com/search?\u001b[0m\u001b[4;32mq\u001b[0m\u001b[4;32m=\u001b[0m\u001b[4;32mtravel\u001b[0m\u001b[4;32m+card+site:pantip.com+after:2024&\u001b[0m\u001b[4;32mas_epq\u001b[0m\u001b[4;32m=\u001b[0m\u001b[4;32mtravel\u001b[0m\u001b[4;32m+card&\u001b[0m\u001b[4;32mstart\u001b[0m\u001b[4;32m=\u001b[0m\u001b[4;32m10\u001b[0m\u001b[32m   |\u001b[0m\n",
       "\u001b[32m✓\u001b[0m\u001b[32m | ⏱: \u001b[0m\u001b[1;32m0.\u001b[0m\u001b[32m05s \u001b[0m\n"
      ]
     },
     "metadata": {},
     "output_type": "display_data"
    },
    {
     "data": {
      "text/html": [
       "<pre style=\"white-space:pre;overflow-x:auto;line-height:normal;font-family:Menlo,'DejaVu Sans Mono',consolas,'Courier New',monospace\"><span style=\"color: #008000; text-decoration-color: #008000; font-weight: bold\">[</span><span style=\"color: #008000; text-decoration-color: #008000\">EXTRACT</span><span style=\"color: #008000; text-decoration-color: #008000; font-weight: bold\">]</span><span style=\"color: #008000; text-decoration-color: #008000\">. ■ </span><span style=\"color: #008000; text-decoration-color: #008000; text-decoration: underline\">https://www.google.com/search?q=travel+card+site:pantip.com+after:2024&amp;as_epq=travel+card&amp;start=10</span><span style=\"color: #008000; text-decoration-color: #008000\">   |</span>\n",
       "<span style=\"color: #008000; text-decoration-color: #008000\">✓ | ⏱: </span><span style=\"color: #008000; text-decoration-color: #008000; font-weight: bold\">0.</span><span style=\"color: #008000; text-decoration-color: #008000\">04s </span>\n",
       "</pre>\n"
      ],
      "text/plain": [
       "\u001b[1;32m[\u001b[0m\u001b[32mEXTRACT\u001b[0m\u001b[1;32m]\u001b[0m\u001b[32m. ■ \u001b[0m\u001b[4;32mhttps://www.google.com/search?\u001b[0m\u001b[4;32mq\u001b[0m\u001b[4;32m=\u001b[0m\u001b[4;32mtravel\u001b[0m\u001b[4;32m+card+site:pantip.com+after:2024&\u001b[0m\u001b[4;32mas_epq\u001b[0m\u001b[4;32m=\u001b[0m\u001b[4;32mtravel\u001b[0m\u001b[4;32m+card&\u001b[0m\u001b[4;32mstart\u001b[0m\u001b[4;32m=\u001b[0m\u001b[4;32m10\u001b[0m\u001b[32m   |\u001b[0m\n",
       "\u001b[32m✓\u001b[0m\u001b[32m | ⏱: \u001b[0m\u001b[1;32m0.\u001b[0m\u001b[32m04s \u001b[0m\n"
      ]
     },
     "metadata": {},
     "output_type": "display_data"
    },
    {
     "data": {
      "text/html": [
       "<pre style=\"white-space:pre;overflow-x:auto;line-height:normal;font-family:Menlo,'DejaVu Sans Mono',consolas,'Courier New',monospace\"><span style=\"color: #008000; text-decoration-color: #008000; font-weight: bold\">[</span><span style=\"color: #008000; text-decoration-color: #008000\">COMPLETE</span><span style=\"color: #008000; text-decoration-color: #008000; font-weight: bold\">]</span><span style=\"color: #008000; text-decoration-color: #008000\"> ● </span><span style=\"color: #008000; text-decoration-color: #008000; text-decoration: underline\">https://www.google.com/search?q=travel+card+site:pantip.com+after:2024&amp;as_epq=travel+card&amp;start=10</span><span style=\"color: #008000; text-decoration-color: #008000\">   |</span>\n",
       "<span style=\"color: #008000; text-decoration-color: #008000\">✓ | ⏱: </span><span style=\"color: #008000; text-decoration-color: #008000; font-weight: bold\">6.</span><span style=\"color: #008000; text-decoration-color: #008000\">10s </span>\n",
       "</pre>\n"
      ],
      "text/plain": [
       "\u001b[1;32m[\u001b[0m\u001b[32mCOMPLETE\u001b[0m\u001b[1;32m]\u001b[0m\u001b[32m ● \u001b[0m\u001b[4;32mhttps://www.google.com/search?\u001b[0m\u001b[4;32mq\u001b[0m\u001b[4;32m=\u001b[0m\u001b[4;32mtravel\u001b[0m\u001b[4;32m+card+site:pantip.com+after:2024&\u001b[0m\u001b[4;32mas_epq\u001b[0m\u001b[4;32m=\u001b[0m\u001b[4;32mtravel\u001b[0m\u001b[4;32m+card&\u001b[0m\u001b[4;32mstart\u001b[0m\u001b[4;32m=\u001b[0m\u001b[4;32m10\u001b[0m\u001b[32m   |\u001b[0m\n",
       "\u001b[32m✓\u001b[0m\u001b[32m | ⏱: \u001b[0m\u001b[1;32m6.\u001b[0m\u001b[32m10s \u001b[0m\n"
      ]
     },
     "metadata": {},
     "output_type": "display_data"
    },
    {
     "data": {
      "text/html": [
       "<pre style=\"white-space:pre;overflow-x:auto;line-height:normal;font-family:Menlo,'DejaVu Sans Mono',consolas,'Courier New',monospace\"><span style=\"color: #008000; text-decoration-color: #008000; font-weight: bold\">[</span><span style=\"color: #008000; text-decoration-color: #008000\">FETCH</span><span style=\"color: #008000; text-decoration-color: #008000; font-weight: bold\">]</span><span style=\"color: #008000; text-decoration-color: #008000\">... ↓ </span><span style=\"color: #008000; text-decoration-color: #008000; text-decoration: underline\">https://www.google.com/search?q=travel+card+site:pantip.com+after:2024&amp;as_epq=travel+card&amp;start=20</span><span style=\"color: #008000; text-decoration-color: #008000\">   |</span>\n",
       "<span style=\"color: #008000; text-decoration-color: #008000\">✓ | ⏱: </span><span style=\"color: #008000; text-decoration-color: #008000; font-weight: bold\">7.</span><span style=\"color: #008000; text-decoration-color: #008000\">25s </span>\n",
       "</pre>\n"
      ],
      "text/plain": [
       "\u001b[1;32m[\u001b[0m\u001b[32mFETCH\u001b[0m\u001b[1;32m]\u001b[0m\u001b[32m...\u001b[0m\u001b[32m ↓ \u001b[0m\u001b[4;32mhttps://www.google.com/search?\u001b[0m\u001b[4;32mq\u001b[0m\u001b[4;32m=\u001b[0m\u001b[4;32mtravel\u001b[0m\u001b[4;32m+card+site:pantip.com+after:2024&\u001b[0m\u001b[4;32mas_epq\u001b[0m\u001b[4;32m=\u001b[0m\u001b[4;32mtravel\u001b[0m\u001b[4;32m+card&\u001b[0m\u001b[4;32mstart\u001b[0m\u001b[4;32m=\u001b[0m\u001b[4;32m20\u001b[0m\u001b[32m   |\u001b[0m\n",
       "\u001b[32m✓\u001b[0m\u001b[32m | ⏱: \u001b[0m\u001b[1;32m7.\u001b[0m\u001b[32m25s \u001b[0m\n"
      ]
     },
     "metadata": {},
     "output_type": "display_data"
    },
    {
     "data": {
      "text/html": [
       "<pre style=\"white-space:pre;overflow-x:auto;line-height:normal;font-family:Menlo,'DejaVu Sans Mono',consolas,'Courier New',monospace\"><span style=\"color: #008000; text-decoration-color: #008000; font-weight: bold\">[</span><span style=\"color: #008000; text-decoration-color: #008000\">SCRAPE</span><span style=\"color: #008000; text-decoration-color: #008000; font-weight: bold\">]</span><span style=\"color: #008000; text-decoration-color: #008000\">.. ◆ </span><span style=\"color: #008000; text-decoration-color: #008000; text-decoration: underline\">https://www.google.com/search?q=travel+card+site:pantip.com+after:2024&amp;as_epq=travel+card&amp;start=20</span><span style=\"color: #008000; text-decoration-color: #008000\">   |</span>\n",
       "<span style=\"color: #008000; text-decoration-color: #008000\">✓ | ⏱: </span><span style=\"color: #008000; text-decoration-color: #008000; font-weight: bold\">0.</span><span style=\"color: #008000; text-decoration-color: #008000\">06s </span>\n",
       "</pre>\n"
      ],
      "text/plain": [
       "\u001b[1;32m[\u001b[0m\u001b[32mSCRAPE\u001b[0m\u001b[1;32m]\u001b[0m\u001b[32m.. ◆ \u001b[0m\u001b[4;32mhttps://www.google.com/search?\u001b[0m\u001b[4;32mq\u001b[0m\u001b[4;32m=\u001b[0m\u001b[4;32mtravel\u001b[0m\u001b[4;32m+card+site:pantip.com+after:2024&\u001b[0m\u001b[4;32mas_epq\u001b[0m\u001b[4;32m=\u001b[0m\u001b[4;32mtravel\u001b[0m\u001b[4;32m+card&\u001b[0m\u001b[4;32mstart\u001b[0m\u001b[4;32m=\u001b[0m\u001b[4;32m20\u001b[0m\u001b[32m   |\u001b[0m\n",
       "\u001b[32m✓\u001b[0m\u001b[32m | ⏱: \u001b[0m\u001b[1;32m0.\u001b[0m\u001b[32m06s \u001b[0m\n"
      ]
     },
     "metadata": {},
     "output_type": "display_data"
    },
    {
     "data": {
      "text/html": [
       "<pre style=\"white-space:pre;overflow-x:auto;line-height:normal;font-family:Menlo,'DejaVu Sans Mono',consolas,'Courier New',monospace\"><span style=\"color: #008000; text-decoration-color: #008000; font-weight: bold\">[</span><span style=\"color: #008000; text-decoration-color: #008000\">EXTRACT</span><span style=\"color: #008000; text-decoration-color: #008000; font-weight: bold\">]</span><span style=\"color: #008000; text-decoration-color: #008000\">. ■ </span><span style=\"color: #008000; text-decoration-color: #008000; text-decoration: underline\">https://www.google.com/search?q=travel+card+site:pantip.com+after:2024&amp;as_epq=travel+card&amp;start=20</span><span style=\"color: #008000; text-decoration-color: #008000\">   |</span>\n",
       "<span style=\"color: #008000; text-decoration-color: #008000\">✓ | ⏱: </span><span style=\"color: #008000; text-decoration-color: #008000; font-weight: bold\">0.</span><span style=\"color: #008000; text-decoration-color: #008000\">14s </span>\n",
       "</pre>\n"
      ],
      "text/plain": [
       "\u001b[1;32m[\u001b[0m\u001b[32mEXTRACT\u001b[0m\u001b[1;32m]\u001b[0m\u001b[32m. ■ \u001b[0m\u001b[4;32mhttps://www.google.com/search?\u001b[0m\u001b[4;32mq\u001b[0m\u001b[4;32m=\u001b[0m\u001b[4;32mtravel\u001b[0m\u001b[4;32m+card+site:pantip.com+after:2024&\u001b[0m\u001b[4;32mas_epq\u001b[0m\u001b[4;32m=\u001b[0m\u001b[4;32mtravel\u001b[0m\u001b[4;32m+card&\u001b[0m\u001b[4;32mstart\u001b[0m\u001b[4;32m=\u001b[0m\u001b[4;32m20\u001b[0m\u001b[32m   |\u001b[0m\n",
       "\u001b[32m✓\u001b[0m\u001b[32m | ⏱: \u001b[0m\u001b[1;32m0.\u001b[0m\u001b[32m14s \u001b[0m\n"
      ]
     },
     "metadata": {},
     "output_type": "display_data"
    },
    {
     "data": {
      "text/html": [
       "<pre style=\"white-space:pre;overflow-x:auto;line-height:normal;font-family:Menlo,'DejaVu Sans Mono',consolas,'Courier New',monospace\"><span style=\"color: #008000; text-decoration-color: #008000; font-weight: bold\">[</span><span style=\"color: #008000; text-decoration-color: #008000\">COMPLETE</span><span style=\"color: #008000; text-decoration-color: #008000; font-weight: bold\">]</span><span style=\"color: #008000; text-decoration-color: #008000\"> ● </span><span style=\"color: #008000; text-decoration-color: #008000; text-decoration: underline\">https://www.google.com/search?q=travel+card+site:pantip.com+after:2024&amp;as_epq=travel+card&amp;start=20</span><span style=\"color: #008000; text-decoration-color: #008000\">   |</span>\n",
       "<span style=\"color: #008000; text-decoration-color: #008000\">✓ | ⏱: </span><span style=\"color: #008000; text-decoration-color: #008000; font-weight: bold\">7.</span><span style=\"color: #008000; text-decoration-color: #008000\">45s </span>\n",
       "</pre>\n"
      ],
      "text/plain": [
       "\u001b[1;32m[\u001b[0m\u001b[32mCOMPLETE\u001b[0m\u001b[1;32m]\u001b[0m\u001b[32m ● \u001b[0m\u001b[4;32mhttps://www.google.com/search?\u001b[0m\u001b[4;32mq\u001b[0m\u001b[4;32m=\u001b[0m\u001b[4;32mtravel\u001b[0m\u001b[4;32m+card+site:pantip.com+after:2024&\u001b[0m\u001b[4;32mas_epq\u001b[0m\u001b[4;32m=\u001b[0m\u001b[4;32mtravel\u001b[0m\u001b[4;32m+card&\u001b[0m\u001b[4;32mstart\u001b[0m\u001b[4;32m=\u001b[0m\u001b[4;32m20\u001b[0m\u001b[32m   |\u001b[0m\n",
       "\u001b[32m✓\u001b[0m\u001b[32m | ⏱: \u001b[0m\u001b[1;32m7.\u001b[0m\u001b[32m45s \u001b[0m\n"
      ]
     },
     "metadata": {},
     "output_type": "display_data"
    },
    {
     "data": {
      "text/html": [
       "<pre style=\"white-space:pre;overflow-x:auto;line-height:normal;font-family:Menlo,'DejaVu Sans Mono',consolas,'Courier New',monospace\"><span style=\"color: #008000; text-decoration-color: #008000; font-weight: bold\">[</span><span style=\"color: #008000; text-decoration-color: #008000\">FETCH</span><span style=\"color: #008000; text-decoration-color: #008000; font-weight: bold\">]</span><span style=\"color: #008000; text-decoration-color: #008000\">... ↓ </span><span style=\"color: #008000; text-decoration-color: #008000; text-decoration: underline\">https://www.google.com/search?q=travel+card+site:pantip.com+after:2024&amp;as_epq=travel+card&amp;start=0</span><span style=\"color: #008000; text-decoration-color: #008000\">    |</span>\n",
       "<span style=\"color: #008000; text-decoration-color: #008000\">✓ | ⏱: </span><span style=\"color: #008000; text-decoration-color: #008000; font-weight: bold\">20.</span><span style=\"color: #008000; text-decoration-color: #008000\">32s </span>\n",
       "</pre>\n"
      ],
      "text/plain": [
       "\u001b[1;32m[\u001b[0m\u001b[32mFETCH\u001b[0m\u001b[1;32m]\u001b[0m\u001b[32m...\u001b[0m\u001b[32m ↓ \u001b[0m\u001b[4;32mhttps://www.google.com/search?\u001b[0m\u001b[4;32mq\u001b[0m\u001b[4;32m=\u001b[0m\u001b[4;32mtravel\u001b[0m\u001b[4;32m+card+site:pantip.com+after:2024&\u001b[0m\u001b[4;32mas_epq\u001b[0m\u001b[4;32m=\u001b[0m\u001b[4;32mtravel\u001b[0m\u001b[4;32m+card&\u001b[0m\u001b[4;32mstart\u001b[0m\u001b[4;32m=\u001b[0m\u001b[4;32m0\u001b[0m\u001b[32m    |\u001b[0m\n",
       "\u001b[32m✓\u001b[0m\u001b[32m | ⏱: \u001b[0m\u001b[1;32m20.\u001b[0m\u001b[32m32s \u001b[0m\n"
      ]
     },
     "metadata": {},
     "output_type": "display_data"
    },
    {
     "data": {
      "text/html": [
       "<pre style=\"white-space:pre;overflow-x:auto;line-height:normal;font-family:Menlo,'DejaVu Sans Mono',consolas,'Courier New',monospace\"><span style=\"color: #008000; text-decoration-color: #008000; font-weight: bold\">[</span><span style=\"color: #008000; text-decoration-color: #008000\">SCRAPE</span><span style=\"color: #008000; text-decoration-color: #008000; font-weight: bold\">]</span><span style=\"color: #008000; text-decoration-color: #008000\">.. ◆ </span><span style=\"color: #008000; text-decoration-color: #008000; text-decoration: underline\">https://www.google.com/search?q=travel+card+site:pantip.com+after:2024&amp;as_epq=travel+card&amp;start=0</span><span style=\"color: #008000; text-decoration-color: #008000\">    |</span>\n",
       "<span style=\"color: #008000; text-decoration-color: #008000\">✓ | ⏱: </span><span style=\"color: #008000; text-decoration-color: #008000; font-weight: bold\">0.</span><span style=\"color: #008000; text-decoration-color: #008000\">03s </span>\n",
       "</pre>\n"
      ],
      "text/plain": [
       "\u001b[1;32m[\u001b[0m\u001b[32mSCRAPE\u001b[0m\u001b[1;32m]\u001b[0m\u001b[32m.. ◆ \u001b[0m\u001b[4;32mhttps://www.google.com/search?\u001b[0m\u001b[4;32mq\u001b[0m\u001b[4;32m=\u001b[0m\u001b[4;32mtravel\u001b[0m\u001b[4;32m+card+site:pantip.com+after:2024&\u001b[0m\u001b[4;32mas_epq\u001b[0m\u001b[4;32m=\u001b[0m\u001b[4;32mtravel\u001b[0m\u001b[4;32m+card&\u001b[0m\u001b[4;32mstart\u001b[0m\u001b[4;32m=\u001b[0m\u001b[4;32m0\u001b[0m\u001b[32m    |\u001b[0m\n",
       "\u001b[32m✓\u001b[0m\u001b[32m | ⏱: \u001b[0m\u001b[1;32m0.\u001b[0m\u001b[32m03s \u001b[0m\n"
      ]
     },
     "metadata": {},
     "output_type": "display_data"
    },
    {
     "data": {
      "text/html": [
       "<pre style=\"white-space:pre;overflow-x:auto;line-height:normal;font-family:Menlo,'DejaVu Sans Mono',consolas,'Courier New',monospace\"><span style=\"color: #008000; text-decoration-color: #008000; font-weight: bold\">[</span><span style=\"color: #008000; text-decoration-color: #008000\">EXTRACT</span><span style=\"color: #008000; text-decoration-color: #008000; font-weight: bold\">]</span><span style=\"color: #008000; text-decoration-color: #008000\">. ■ </span><span style=\"color: #008000; text-decoration-color: #008000; text-decoration: underline\">https://www.google.com/search?q=travel+card+site:pantip.com+after:2024&amp;as_epq=travel+card&amp;start=0</span><span style=\"color: #008000; text-decoration-color: #008000\">    |</span>\n",
       "<span style=\"color: #008000; text-decoration-color: #008000\">✓ | ⏱: </span><span style=\"color: #008000; text-decoration-color: #008000; font-weight: bold\">0.</span><span style=\"color: #008000; text-decoration-color: #008000\">02s </span>\n",
       "</pre>\n"
      ],
      "text/plain": [
       "\u001b[1;32m[\u001b[0m\u001b[32mEXTRACT\u001b[0m\u001b[1;32m]\u001b[0m\u001b[32m. ■ \u001b[0m\u001b[4;32mhttps://www.google.com/search?\u001b[0m\u001b[4;32mq\u001b[0m\u001b[4;32m=\u001b[0m\u001b[4;32mtravel\u001b[0m\u001b[4;32m+card+site:pantip.com+after:2024&\u001b[0m\u001b[4;32mas_epq\u001b[0m\u001b[4;32m=\u001b[0m\u001b[4;32mtravel\u001b[0m\u001b[4;32m+card&\u001b[0m\u001b[4;32mstart\u001b[0m\u001b[4;32m=\u001b[0m\u001b[4;32m0\u001b[0m\u001b[32m    |\u001b[0m\n",
       "\u001b[32m✓\u001b[0m\u001b[32m | ⏱: \u001b[0m\u001b[1;32m0.\u001b[0m\u001b[32m02s \u001b[0m\n"
      ]
     },
     "metadata": {},
     "output_type": "display_data"
    },
    {
     "data": {
      "text/html": [
       "<pre style=\"white-space:pre;overflow-x:auto;line-height:normal;font-family:Menlo,'DejaVu Sans Mono',consolas,'Courier New',monospace\"><span style=\"color: #008000; text-decoration-color: #008000; font-weight: bold\">[</span><span style=\"color: #008000; text-decoration-color: #008000\">COMPLETE</span><span style=\"color: #008000; text-decoration-color: #008000; font-weight: bold\">]</span><span style=\"color: #008000; text-decoration-color: #008000\"> ● </span><span style=\"color: #008000; text-decoration-color: #008000; text-decoration: underline\">https://www.google.com/search?q=travel+card+site:pantip.com+after:2024&amp;as_epq=travel+card&amp;start=0</span><span style=\"color: #008000; text-decoration-color: #008000\">    |</span>\n",
       "<span style=\"color: #008000; text-decoration-color: #008000\">✓ | ⏱: </span><span style=\"color: #008000; text-decoration-color: #008000; font-weight: bold\">20.</span><span style=\"color: #008000; text-decoration-color: #008000\">38s </span>\n",
       "</pre>\n"
      ],
      "text/plain": [
       "\u001b[1;32m[\u001b[0m\u001b[32mCOMPLETE\u001b[0m\u001b[1;32m]\u001b[0m\u001b[32m ● \u001b[0m\u001b[4;32mhttps://www.google.com/search?\u001b[0m\u001b[4;32mq\u001b[0m\u001b[4;32m=\u001b[0m\u001b[4;32mtravel\u001b[0m\u001b[4;32m+card+site:pantip.com+after:2024&\u001b[0m\u001b[4;32mas_epq\u001b[0m\u001b[4;32m=\u001b[0m\u001b[4;32mtravel\u001b[0m\u001b[4;32m+card&\u001b[0m\u001b[4;32mstart\u001b[0m\u001b[4;32m=\u001b[0m\u001b[4;32m0\u001b[0m\u001b[32m    |\u001b[0m\n",
       "\u001b[32m✓\u001b[0m\u001b[32m | ⏱: \u001b[0m\u001b[1;32m20.\u001b[0m\u001b[32m38s \u001b[0m\n"
      ]
     },
     "metadata": {},
     "output_type": "display_data"
    },
    {
     "data": {
      "text/plain": [
       "[{'url': 'https://pantip.com/topic/43410395',\n",
       "  'title': 'บัตร travel card ของ SCB กับ KBANK มีสาขาไหนที่สมัครแล้วได้ ...',\n",
       "  'related_content': 'บัตร travel card ของ SCB กับ KBANK มีสาขาไหนที่สมัครแล้วได้ ...Pantiphttps://pantip.com› topicPantiphttps://pantip.com› topic22 เม.ย. 2568—บัตรtravel cardของ SCB กับ KBANK มีสาขาไหนที่สมัครแล้วได้บัตรเลยมั้ยครับ. สมาชิกหมายเลข 5447246 22 เมษายน 2568 เวลา 19:15:49 น.',\n",
       "  'date_string': '22 เม.ย. 2568'},\n",
       " {'url': 'https://pantip.com/topic/43535052',\n",
       "  'title': 'สงสัยเรื่อง travel card + suica + IC ครับ',\n",
       "  'related_content': 'สงสัยเรื่อง travel card + suica + IC ครับPantiphttps://pantip.com› topicPantiphttps://pantip.com› topic3 มิ.ย. 2568—- เคยได้ยินว่าtravel cardมันอาจอายัติเองได้ตอนสำคัญๆ ถ้าเป็นยังงั้นแล้วจะเตรียมแผนยังไงดี - ตอนนี้คิดว่าคงต้องหา2ใบแล้วกระจายเงิน เกิดมีปัญหาตอนอยู่ญี่ปุ่นแล้วก็มาใช้อีกใบ จะสามารถซื้อ ypy ใน\\xa0...',\n",
       "  'date_string': '3 มิ.ย. 2568'},\n",
       " {'url': 'https://pantip.com/topic/43276953',\n",
       "  'title': 'บัตร Travel card ใดมีสกุลเงินริงกิต มาเลเซีย',\n",
       "  'related_content': 'บัตร Travel card ใดมีสกุลเงินริงกิต มาเลเซียPantiphttps://pantip.com› topicPantiphttps://pantip.com› topic26 ก.พ. 2568—ตามหัวข้อเลยค่ะ เดิมทีใช้บัตร กรุงไทยtravel cardจะมีเงินสกุล MYR ของมาเลเซีย พออัพเดทเป็นบัตรใหม่แล้ว สกุลนี้ก็หายไปด้วย อยากทราบว่ามีบัตรใดที่ตอนนี้มี MYR อยู่บ้างคะ. SCB ไม่มี กรุงศรี ไม่มี',\n",
       "  'date_string': '26 ก.พ. 2568'},\n",
       " {'url': 'https://pantip.com/topic/43292632',\n",
       "  'title': 'ใช้บัตร Krungthai Travel Card จองโรงแรม ผ่าน Agoda แบบ ...',\n",
       "  'related_content': 'ใช้บัตร Krungthai Travel Card จองโรงแรม ผ่าน Agoda แบบ ...Pantiphttps://pantip.com› topicPantiphttps://pantip.com› topic3 มี.ค. 2568—... KrungthaiTravel Cardจองโรงแรม ผ่าน Agoda แบบจองก่อน จ่าย ... บัตรTravel Cardที่สามารถรูดใช้ที่ต่างประเทศโดยไม่ต้องแลกเงินล่วงหน้า มีแค่\\xa0...',\n",
       "  'date_string': '3 มี.ค. 2568'},\n",
       " {'url': 'https://pantip.com/topic/43683086/desktop',\n",
       "  'title': 'แนะนําบัตร travel card หน่อยค่ะ ใบไหนที่สะดวกสำหรับคุณ',\n",
       "  'related_content': 'แนะนําบัตร travel card หน่อยค่ะ ใบไหนที่สะดวกสำหรับคุณPantiphttps://pantip.com› topic › desktopPantiphttps://pantip.com› topic › desktop2 ม.ค. 2568—บัตรกรุงไทยTravel Card/ True Money digital Card / Youtrip นำไปผูกกับแอพที่ต้องการรหัสสี่ตัวเพื่อActivate บ/ชได้มั้ยครับ. บัตรกรุงไทยTravel Card/ True Money digital Card\\xa0...',\n",
       "  'date_string': '2 ม.ค. 2568'},\n",
       " {'url': 'https://pantip.com/topic/43196253',\n",
       "  'title': 'Travel Card ของธนาคารไหนบ้างครับที่คนต่างชาติสามารถสมัคร ...',\n",
       "  'related_content': 'Travel Card ของธนาคารไหนบ้างครับที่คนต่างชาติสามารถสมัคร ...Pantiphttps://pantip.com› topicPantiphttps://pantip.com› topic11 ม.ค. 2568—1. SCB Planet SCB Card (SCB) · 2. KBank JourneyTravel Card(KBank) · 3. Krungsri Boarding Card (Krungsri) · 4. Krungthai Travel Visa Platinum Card (Krungthai) · 5.',\n",
       "  'date_string': '11 ม.ค. 2568'},\n",
       " {'url': 'https://pantip.com/topic/38566834/desktop',\n",
       "  'title': 'กรุงไทย travel card สามารถแตะซื้อของผ่านร้านสะดวกซื้อที่ญี่ปุ่น ...',\n",
       "  'related_content': 'กรุงไทย travel card สามารถแตะซื้อของผ่านร้านสะดวกซื้อที่ญี่ปุ่น ...Pantiphttps://pantip.com› topic › desktopPantiphttps://pantip.com› topic › desktop1 มิ.ย. 2568—กรุงไทยtravel cardสามารถแตะซื้อของผ่านร้านสะดวกซื้อที่ญี่ปุ่น เช่น 7-11 ได้มั้ยคะ ขอบคุณค่ะ.',\n",
       "  'date_string': '1 มิ.ย. 2568'},\n",
       " {'url': 'https://pantip.com/topic/43028078',\n",
       "  'title': 'ขอบ่นเกี่ยวกับบัตร Travel Card ธ.กรุงไทยสักเล็กน้อย',\n",
       "  'related_content': 'ขอบ่นเกี่ยวกับบัตร Travel Card ธ.กรุงไทยสักเล็กน้อยPantiphttps://pantip.com› topicPantiphttps://pantip.com› topic16 มิ.ย. 2568—คือมาเที่ยวสาธารณรัฐเช็ก ประเทศนี้ใช้สกุลเงิน CZK แต่พบว่าไม่สามารถใช้ ใช้บัตรTravel cardธ.กรุงไทยได้ (รุ่น visa) ทั้งซื้อสินค้าบริการและกดเงินทั้งๆที่ในบัตร มีทั้งเงินไทย และยูโร โทรกลับมาถาม\\xa0...',\n",
       "  'date_string': '16 มิ.ย. 2568'},\n",
       " {'url': 'https://pantip.com/topic/41837494/desktop',\n",
       "  'title': 'ใช้พวก travel card กดเงินปอนด์จากตู้ ATM ที่อังกฤษ มี ...',\n",
       "  'related_content': 'ใช้พวก travel card กดเงินปอนด์จากตู้ ATM ที่อังกฤษ มี ...Pantiphttps://pantip.com› topic › desktopPantiphttps://pantip.com› topic › desktop30 มิ.ย. 2568—จะไปอังกฤษเดือนมีนา กะว่าจะแลกเงินปอนด์ใส่travel card(ตอนนี้ใช้ของ Planet SCB) เอาไว้แล้วไปกดเงินสดจากตู้ ATM ที่โน่นได้เรทถูกกว่าแลกเงินจากบ้านเรา',\n",
       "  'date_string': '30 มิ.ย. 2568'},\n",
       " {'url': 'https://pantip.com/topic/43251925',\n",
       "  'title': 'เที่ยวจีน ระหว่าง Travel Card กับ บัตรเครดิต ทุกหนึ่งหมื่นบาท จะ ...',\n",
       "  'related_content': 'เที่ยวจีน ระหว่าง Travel Card กับ บัตรเครดิต ทุกหนึ่งหมื่นบาท จะ ...Pantiphttps://pantip.com› topicPantiphttps://pantip.com› topic9 ก.พ. 2568—Travel Card1CNY= 4.66THB ถ้าซื้อเงินเก็บไว้ ก็จะได้เรทที้ซื้อไว้ แต่บัตรต้องรองรับสกุลเงินด้วย แต่ถ้าไม่ได้ซื้อ ก็ได้เรท ประจำวัน อย่างคุณแรกเก็บวันนี้ 4.66 แต่ไปถึง เรทประจำวันขึ้นไป 4.80 คุณก็ใช้จ่ายใน\\xa0...',\n",
       "  'date_string': '9 ก.พ. 2568'},\n",
       " {'url': 'https://pantip.com/topic/39252816/desktop',\n",
       "  'title': 'โปรดระวัง !! การใช้บัตร Krungthai Travel card รูดเติมน้ำมันแบบ ...',\n",
       "  'related_content': 'โปรดระวัง !! การใช้บัตร Krungthai Travel card รูดเติมน้ำมันแบบ ...Pantiphttps://pantip.com› topic › desktopPantiphttps://pantip.com› topic › desktop3 ส.ค. 2568—วันนี้ผมได้ไปเติมน้ำมันที่ปั๊มน้ำมันแบบเติมด้วยตัวเองในญี่ปุ่น และได้รูดจ่ายเงินผ่านเครื่องอัตโนมัติด้วยบัตร KrungthaiTravel cardใบเสร็จก็ปริ้นออกมาว่ายอดประมาณ 800 เยน\\xa0...',\n",
       "  'date_string': '3 ส.ค. 2568'},\n",
       " {'url': 'https://pantip.com/topic/43672653',\n",
       "  'title': 'บัตร travel card กรุงไทย',\n",
       "  'related_content': 'บัตร travel card กรุงไทยPantiphttps://pantip.com› topicPantiphttps://pantip.com› topic8 ส.ค. 2568—สวัสดีค่ะ คุณสมาชิกหมายเลข 2041489 บัตรtravel cardกรุงไทย ปัจจุบัน สามารถกด ตู้ atm ในประเทศไทยได้ค่ะ ขอบคุณค่ะ. 0. 0. ∨ ดู 2 ความเห็นย่อย ∨. ความคิดเห็นที่ 1-1.',\n",
       "  'date_string': '8 ส.ค. 2568'},\n",
       " {'url': 'https://pantip.com/topic/42370277',\n",
       "  'title': 'ตอนนี้มีบัตรเครดิตใบไหนบ้าง ที่ไม่รูดตปท.แล้วไม่คิดค่าชาร์จความ ...',\n",
       "  'related_content': 'ตอนนี้มีบัตรเครดิตใบไหนบ้าง ที่ไม่รูดตปท.แล้วไม่คิดค่าชาร์จความ ...Pantiphttps://pantip.com› topicPantiphttps://pantip.com› topic2 ก.ค. 2568—ลองดูพวกบัตรtravel cardแลกค่าเงินใส่บัตรไว้ก่อน พอไปรูดจะหักจากเงินที่เราแลกไว้ก่อนหน้า. 0.',\n",
       "  'date_string': '2 ก.ค. 2568'},\n",
       " {'url': 'https://pantip.com/topic/39239079/desktop',\n",
       "  'title': 'SCB Planet หรือ Krungthai travel Card ถ้าเอาไปใช้รูดที่อินเดีย ...',\n",
       "  'related_content': 'SCB Planet หรือ Krungthai travel Card ถ้าเอาไปใช้รูดที่อินเดีย ...Pantiphttps://pantip.com› topic › desktopPantiphttps://pantip.com› topic › desktop1 ส.ค. 2568—ขอรบกวนถามเทคนิคการใช้บัตรTravel cardในต่างประเทศ 1. เราสามารถเติมเงินบาทไว้ในบัตร (โดยไม่ต้องแลก) พอไปต่างประเทศก็ใช้บัตรรูดจ่ายได้เลย บัตรจะหักเงินบาทไปเท · perfectjoe. อ่านกระทู้\\xa0...',\n",
       "  'date_string': '1 ส.ค. 2568'},\n",
       " {'url': 'https://pantip.com/topic/40889977/desktop',\n",
       "  'title': 'บัตรtravel cardของ กรุงไทย ใช้กดatm ในไทยได้ไหมคะ',\n",
       "  'related_content': 'บัตรtravel cardของ กรุงไทย ใช้กดatm ในไทยได้ไหมคะPantiphttps://pantip.com› topic › desktopPantiphttps://pantip.com› topic › desktop6 วันที่ผ่านมา—บัตรtravel cardของกรุงไทย สามารถกดatmได้ไหมคะ ยังไม่ได้ซื้อสกุลเงินอื่น ตอนนี้เป็นสกุลเงินบาท พอดีไปกดแล้วตู้แจ้งว่ากดผิดประเภทบัญชี ทั้งๆที่เลือกเป็นบัญชีออมทรัพย์',\n",
       "  'date_string': '6 วันที่ผ่านมา'},\n",
       " {'url': 'https://pantip.com/topic/43390331',\n",
       "  'title': 'ไปเที่ยว“เซี่ยงไฮ้” ควรแลกเงินสดติดตัวไปไหมคะ หรือ พกแต่ ...',\n",
       "  'related_content': 'ไปเที่ยว“เซี่ยงไฮ้” ควรแลกเงินสดติดตัวไปไหมคะ หรือ พกแต่ ...Pantiphttps://pantip.com› topicPantiphttps://pantip.com› topic1 พ.ค. 2568—ไปกับทัวร์พกเงินสดติดไปซัก 500 หยวนก็พอแล้วครับ จีนไม่ค่อยรับtravel cardแบบแตะจ่าย ทางที่ดีผูกบัตรtravel cardไว้กับ alipay แล้วสแกนจ่ายชัวร์ที่สุดครับ\\xa0...',\n",
       "  'date_string': '1 พ.ค. 2568'},\n",
       " {'url': 'https://pantip.com/topic/43383401',\n",
       "  'title': 'ไปซิดนีย์ใช้บัตร travel card ของกรุงไทยเพื่อแตะจ่ายค่าโดยสาร ...',\n",
       "  'related_content': 'ไปซิดนีย์ใช้บัตร travel card ของกรุงไทยเพื่อแตะจ่ายค่าโดยสาร ...Pantiphttps://pantip.com› topicPantiphttps://pantip.com› topic11 เม.ย. 2568—ลูกค้าสามารถใช้บัตร KrungthaiTravel cardใช้จ่าย หรือใช้เดินทางในซิดนีย์ขึ้นรถไฟ รถบัส รถราง เรือ จบภายในบัตรเดียวได้ค่ะ ขอบคุณค่ะ.',\n",
       "  'date_string': '11 เม.ย. 2568'},\n",
       " {'url': 'https://pantip.com/topic/43227780',\n",
       "  'title': 'บัตร traval card กรุงไทย',\n",
       "  'related_content': 'บัตร traval card กรุงไทยPantiphttps://pantip.com› topicPantiphttps://pantip.com› topic28 ม.ค. 2568—สำหรับบัตรtravel cardลูกค้าต้องทำการแลกเงินเก็บไว้ใน card ถึงจะใช้งานบัตรได้ค่ะ ถอนเงินสดด้วยสกุลเงินที่แลกเก็บไว้ได้ทั่วโลก (ในประเทศที่รองรับสกุลเงิน\\xa0...',\n",
       "  'date_string': '28 ม.ค. 2568'},\n",
       " {'url': 'https://pantip.com/topic/43526611',\n",
       "  'title': 'ใช้บัตร travel cardกรุงไทย ที่ walmart usa ไม่ได้',\n",
       "  'related_content': 'ใช้บัตร travel cardกรุงไทย ที่ walmart usa ไม่ได้Pantiphttps://pantip.com› topicPantiphttps://pantip.com› topic31 พ.ค. 2568—สวัสดีค่า พอดีเราไปใช้บัตรtravel cardของ กรุงไทยที่ walmart ของเมกา แล้วมันขึ้นว่า payment fial ให้เปลี่ยนบัตร เพื่อนเราใช้ youtrip ใช้ได้ปกติค่ะ ทุกคนมีใครเป็นปัญหาเหมือนกันไหมคะ',\n",
       "  'date_string': '31 พ.ค. 2568'},\n",
       " {'url': 'https://pantip.com/topic/43426831',\n",
       "  'title': 'บัตร Krungthai Travel UnionPay กรณีเงินหยวนไม่พอ หรือไม่ได้ ...',\n",
       "  'related_content': 'บัตร Krungthai Travel UnionPay กรณีเงินหยวนไม่พอ หรือไม่ได้ ...Pantiphttps://pantip.com› topicPantiphttps://pantip.com› topic29 เม.ย. 2568—ไม่ auto ครับ.. ถ้าคุณชอบระบบ auto convert มากกว่า แนะนำให้สมัคร MasterCard อีกใบ ของ KTCtravel cardนั่นแหละ ... KrungthaiTravel CardVisa สู่ Mastercard กับสกุลเงินบางสกุลเงิน\\xa0...',\n",
       "  'date_string': '29 เม.ย. 2568'},\n",
       " {'url': 'https://pantip.com/topic/43299797',\n",
       "  'title': 'เทคนิคการใช้บัตร Travel card แทนบัตรเครดิตในต่างประเทศ',\n",
       "  'related_content': 'เทคนิคการใช้บัตร Travel card แทนบัตรเครดิตในต่างประเทศPantiphttps://pantip.com› topicPantiphttps://pantip.com› topic6 มี.ค. 2568—ขอรบกวนถามเทคนิคการใช้บัตรTravel cardในต่างประเทศครับ 1. เราสามารถเติมเงินบาทไว้ในบัตร (โดยไม่ต้องแลก) พอไปต่างประเทศก็ใช้บัตรรูดจ่ายได้เลย บัตรจะหักเงินบาทไปเท่าไหร่\\xa0...',\n",
       "  'date_string': '6 มี.ค. 2568'},\n",
       " {'url': 'https://pantip.com/topic/43314705',\n",
       "  'title': 'บัตร Travel Card ที่สามารถรูดใช้ที่ต่างประเทศโดยไม่ต้องแลกเงิน ...',\n",
       "  'related_content': 'บัตร Travel Card ที่สามารถรูดใช้ที่ต่างประเทศโดยไม่ต้องแลกเงิน ...Pantiphttps://pantip.com› topicPantiphttps://pantip.com› topic13 มี.ค. 2568—บัตร KrungthaiTravel Cardแจ้งว่า ต้องมีเงินสกุลนั้น ๆ แลกไว้ในบัตรล่วงหน้าจำนวนหนึ่ง เท่าไหร่ไม่ได้บอก ถึงจะรูดใช้ได้ ซึ่งหากเงินสกุลนั้น ๆ ไม่เพียงพอ บัตรจะทำการ auto exchange เงินบาทที่คงเหลือ\\xa0...',\n",
       "  'date_string': '13 มี.ค. 2568'},\n",
       " {'url': 'https://pantip.com/topic/43683086',\n",
       "  'title': 'แนะนําบัตร travel card หน่อยค่ะ ใบไหนที่สะดวกสำหรับคุณ',\n",
       "  'related_content': 'แนะนําบัตร travel card หน่อยค่ะ ใบไหนที่สะดวกสำหรับคุณPantiphttps://pantip.com› topicPantiphttps://pantip.com› topic7 วันที่ผ่านมา—-travel cardกรุงศรีบรอดดิ้งคาร์ด แลกเงินจีนเรทดีสุด -travel cardYoutrip กดเงินสดตู้ ATM ธ.ICBC , Bank of China ฟรีค่าธรรมเนียมกดเงิน - บัตรเครดิต ICBC UnionPay ไม่มีค่า FX',\n",
       "  'date_string': '7 วันที่ผ่านมา'},\n",
       " {'url': 'https://pantip.com/topic/43694743',\n",
       "  'title': 'สอบถามบัตร travel card ตัวใหม่ของกรุงไทยครับ',\n",
       "  'related_content': 'สอบถามบัตร travel card ตัวใหม่ของกรุงไทยครับPantiphttps://pantip.com› topicPantiphttps://pantip.com› topic1 วันที่ผ่านมา—KrungthaiTravel CardVisa สู่ Mastercard กับสกุลเงินบางสกุลเงินที่หายไป ... บัตร Krungthai Travel Platinum Master Card Debit แตกต่างกับ Krungthai Travel Premium Master Card\\xa0...',\n",
       "  'date_string': '1 วันที่ผ่านมา'},\n",
       " {'url': 'https://pantip.com/topic/43390873',\n",
       "  'title': 'อยากทำบัตร travel card มีของธนาคารไหนแนะนำบ้างครับ',\n",
       "  'related_content': 'อยากทำบัตร travel card มีของธนาคารไหนแนะนำบ้างครับPantiphttps://pantip.com› topicPantiphttps://pantip.com› topic14 เม.ย. 2568—Travel cardเป็นเดบิต ไม่ต้องมีเงินฝากใดๆ มี scb planet กับ youtrip นานแล้ว ... บัตรtravel cardค่ายไหนที่ใช้ดีเท่าyoutrip หรือใกล้เคียงไหมครับ?',\n",
       "  'date_string': '14 เม.ย. 2568'},\n",
       " {'url': 'https://pantip.com/topic/43034193/desktop',\n",
       "  'title': 'บัตร Krungthai Travel Platinum Master Card Debit แตกต่าง ...',\n",
       "  'related_content': 'บัตร Krungthai Travel Platinum Master Card Debit แตกต่าง ...Pantiphttps://pantip.com› topic › desktopPantiphttps://pantip.com› topic › desktop10 พ.ค. 2568—พอดีว่าตอนนี้เราใช้บัตรTravel cardvisaของกรุงไทยอยู่ค่ะ เมื่อวานตอนจะเข้าไปแลกเงินในแอพมีแจ้งเตือนว่าตอนนี้มีหน้าบัตรใหม่เข้ามาเป็นตัว Krungthai Travel Platinum Mastercard Debit ถ้ามีบัตร\\xa0...',\n",
       "  'date_string': '10 พ.ค. 2568'},\n",
       " {'url': 'https://pantip.com/topic/43312602',\n",
       "  'title': 'บัตร Krungthai Travel Card',\n",
       "  'related_content': 'บัตร Krungthai Travel CardPantiphttps://pantip.com› topicPantiphttps://pantip.com› topic12 มี.ค. 2568—ได้ ใส่เงินบาทไว้ มันแปลงค่าเงินให้เองครับ ใช้เรทตามหน้าเว็บของTravel Cardเลย ... บัตรกรุงไทยTravel Cardกับ Inter Wallet ใน app NEXT ต่างกันยังไงครับ. +=MSN=+.',\n",
       "  'date_string': '12 มี.ค. 2568'},\n",
       " {'url': 'https://pantip.com/topic/43463515',\n",
       "  'title': 'บัตร travel card ค่ายไหนที่ใช้ดีเท่าyoutrip หรือใกล้เคียงไหมครับ?',\n",
       "  'related_content': 'บัตร travel card ค่ายไหนที่ใช้ดีเท่าyoutrip หรือใกล้เคียงไหมครับ?Pantiphttps://pantip.com› topicPantiphttps://pantip.com› topic12 พ.ค. 2568—บัตรtravel cardค่ายไหนที่ใช้ดีเท่าyoutrip หรือใกล้เคียงไหมครับ? เผื่อไว้เป็นใบสำรองสำหรับ เวลาไปเที่ยวมีอยู่ใบเดียว แล้วหายครับ\\xa0...',\n",
       "  'date_string': '12 พ.ค. 2568'},\n",
       " {'url': 'https://pantip.com/topic/41772621/desktop',\n",
       "  'title': 'บัตรพวก travel card ถ้าใช้รูดที่ต่างประเทศ แล้วต้องใส่รหัส มันคือ ...',\n",
       "  'related_content': 'บัตรพวก travel card ถ้าใช้รูดที่ต่างประเทศ แล้วต้องใส่รหัส มันคือ ...Pantiphttps://pantip.com› topic › desktopPantiphttps://pantip.com› topic › desktop12 ส.ค. 2568—บัตรtravel card- krungthai และ scb planet เวลาไปใช้ต่างประเทศ จะถูกให้ต้องกด PIN กี่ตัวครับ. จากประสบการณ์ ไปรูด card เหล่านี้ บางที่ บางประเทศ เราจะต้องใส่ PIN ด้วย โดยเครื่องรูด\\xa0...',\n",
       "  'date_string': '12 ส.ค. 2568'},\n",
       " {'url': 'https://pantip.com/topic/43301394',\n",
       "  'title': 'มีใครใช้บัตรเสริม Travel Card ของกรุงไทยบ้างคะ',\n",
       "  'related_content': 'มีใครใช้บัตรเสริม Travel Card ของกรุงไทยบ้างคะPantiphttps://pantip.com› topicPantiphttps://pantip.com› topic7 มี.ค. 2568—คือมีบัตรกรุงไทยTravel cardได้เปิดใช้บัตรหลักแล้ว ส่วนบัตรเสริมที่ได้บัตรมา ยังไม่ได้เปิดใช้เพราะหาวิธีเปิดใช้ไม่ได้ค่ะ ไม่แน่ใจว่าต้องเปิดใช้บัตรเสริม\\xa0...',\n",
       "  'date_string': '7 มี.ค. 2568'}]"
      ]
     },
     "execution_count": 4,
     "metadata": {},
     "output_type": "execute_result"
    }
   ],
   "source": [
    "keyword = 'travel card'\n",
    "site = 'pantip.com'\n",
    "keyword_mod = keyword.lower().replace(' ', '+')\n",
    "google_search_url = f\"https://www.google.com/search?q={keyword_mod}+site:{site}+after:2024&as_epq={keyword_mod}\"\n",
    "pantip_search_url = f\"https://pantip.com/search?q={keyword_mod}&timebias=true\"\n",
    "print(f'Crawling::{keyword_mod} Site::{site}\\n{google_search_url}')\n",
    "\n",
    "results = await scraper.search.search_from_url(\n",
    "    google_search_url,\n",
    "    #pantip_search_url,\n",
    "    #extraction_schema={\n",
    "    #  \"baseSelector\": \"li.pt-list-item.pt-list-item__sr__no-img\",\n",
    "    #  \"fields\": [{\"name\": \"url\", \"selector\": \"a\", \"type\": \"attribute\", \"attribute\": \"href\"},],\n",
    "    #},\n",
    "    provider=\"google\",\n",
    "    max_results=None,\n",
    "    return_schema=True,\n",
    "    max_paginate=3,\n",
    "    headless=False,\n",
    "    pagination_mode='multi_window',\n",
    ")\n",
    "\n",
    "results"
   ]
  },
  {
   "cell_type": "code",
   "execution_count": 5,
   "id": "e0a4ab6a",
   "metadata": {},
   "outputs": [
    {
     "data": {
      "text/plain": [
       "30"
      ]
     },
     "execution_count": 5,
     "metadata": {},
     "output_type": "execute_result"
    }
   ],
   "source": [
    "len(results)"
   ]
  },
  {
   "cell_type": "code",
   "execution_count": 6,
   "id": "ae9af995",
   "metadata": {},
   "outputs": [
    {
     "ename": "NameError",
     "evalue": "name 'bobo' is not defined",
     "output_type": "error",
     "traceback": [
      "\u001b[31m---------------------------------------------------------------------------\u001b[39m",
      "\u001b[31mNameError\u001b[39m                                 Traceback (most recent call last)",
      "\u001b[36mCell\u001b[39m\u001b[36m \u001b[39m\u001b[32mIn[6]\u001b[39m\u001b[32m, line 1\u001b[39m\n\u001b[32m----> \u001b[39m\u001b[32m1\u001b[39m \u001b[43mbobo\u001b[49m\n",
      "\u001b[31mNameError\u001b[39m: name 'bobo' is not defined"
     ]
    }
   ],
   "source": [
    "bobo"
   ]
  },
  {
   "cell_type": "code",
   "execution_count": null,
   "id": "5ca5f280",
   "metadata": {},
   "outputs": [],
   "source": [
    "keywords = [\n",
    "    #\"travel card\",\n",
    "    \"บัตรเดบิต\",\n",
    "    #\"โมบายแบงก์กิ้ง\",\n",
    "    #\"กองทุน\",\n",
    "    #\"ประกันชีวิต\",\n",
    "    #\"ประกันภัย\",\n",
    "    #\"บัตรกดเงินสด\",\n",
    "    #\"บัตรเครดิต\",\n",
    "    #\"สินเชื่อรถ\",\n",
    "    #\"สินเชื่อบ้าน\",\n",
    "    #\"สินเชื่อส่วนบุคคล\",\n",
    "    #\"บัญชี\",\n",
    "    ]"
   ]
  },
  {
   "cell_type": "code",
   "execution_count": null,
   "id": "004e55a2",
   "metadata": {},
   "outputs": [
    {
     "ename": "ColumnNotFoundError",
     "evalue": "unable to find column \"date_string\"; valid columns: []",
     "output_type": "error",
     "traceback": [
      "\u001b[31m---------------------------------------------------------------------------\u001b[39m",
      "\u001b[31mColumnNotFoundError\u001b[39m                       Traceback (most recent call last)",
      "\u001b[36mCell\u001b[39m\u001b[36m \u001b[39m\u001b[32mIn[7]\u001b[39m\u001b[32m, line 40\u001b[39m\n\u001b[32m     37\u001b[39m     clear_output(wait=\u001b[38;5;28;01mTrue\u001b[39;00m)\n\u001b[32m     39\u001b[39m df = pl.DataFrame(results_list)\n\u001b[32m---> \u001b[39m\u001b[32m40\u001b[39m df = \u001b[43mdf\u001b[49m\u001b[43m.\u001b[49m\u001b[43mwith_columns\u001b[49m\u001b[43m(\u001b[49m\n\u001b[32m     41\u001b[39m \u001b[43m    \u001b[49m\u001b[43mpl\u001b[49m\u001b[43m.\u001b[49m\u001b[43mcol\u001b[49m\u001b[43m(\u001b[49m\u001b[33;43m'\u001b[39;49m\u001b[33;43mdate_string\u001b[39;49m\u001b[33;43m'\u001b[39;49m\u001b[43m)\u001b[49m\u001b[43m.\u001b[49m\u001b[43mmap_elements\u001b[49m\u001b[43m(\u001b[49m\u001b[38;5;28;43;01mlambda\u001b[39;49;00m\u001b[43m \u001b[49m\u001b[43ms\u001b[49m\u001b[43m:\u001b[49m\u001b[43m \u001b[49m\u001b[43msb_utils\u001b[49m\u001b[43m.\u001b[49m\u001b[43mdatetime_processing\u001b[49m\u001b[43m.\u001b[49m\u001b[43mparse_thai_date\u001b[49m\u001b[43m(\u001b[49m\u001b[43ms\u001b[49m\u001b[43m)\u001b[49m\u001b[43m,\u001b[49m\u001b[43m \u001b[49m\u001b[43mreturn_dtype\u001b[49m\u001b[43m=\u001b[49m\u001b[43mpl\u001b[49m\u001b[43m.\u001b[49m\u001b[43mDate\u001b[49m\u001b[43m)\u001b[49m\u001b[43m.\u001b[49m\u001b[43malias\u001b[49m\u001b[43m(\u001b[49m\u001b[33;43m\"\u001b[39;49m\u001b[33;43mparsed_date\u001b[39;49m\u001b[33;43m\"\u001b[39;49m\u001b[43m)\u001b[49m\u001b[43m,\u001b[49m\n\u001b[32m     42\u001b[39m \u001b[43m    \u001b[49m\u001b[43mpl\u001b[49m\u001b[43m.\u001b[49m\u001b[43mcol\u001b[49m\u001b[43m(\u001b[49m\u001b[33;43m'\u001b[39;49m\u001b[33;43murl\u001b[39;49m\u001b[33;43m'\u001b[39;49m\u001b[43m)\u001b[49m\u001b[43m.\u001b[49m\u001b[43mmap_elements\u001b[49m\u001b[43m(\u001b[49m\u001b[38;5;28;43;01mlambda\u001b[39;49;00m\u001b[43m \u001b[49m\u001b[43mu\u001b[49m\u001b[43m:\u001b[49m\u001b[43m \u001b[49m\u001b[43msb_utils\u001b[49m\u001b[43m.\u001b[49m\u001b[43mhashing\u001b[49m\u001b[43m.\u001b[49m\u001b[43mhash_function\u001b[49m\u001b[43m(\u001b[49m\u001b[43mu\u001b[49m\u001b[43m.\u001b[49m\u001b[43mstrip\u001b[49m\u001b[43m(\u001b[49m\u001b[43m)\u001b[49m\u001b[43m,\u001b[49m\u001b[43m \u001b[49m\u001b[43malgo\u001b[49m\u001b[43m=\u001b[49m\u001b[33;43m'\u001b[39;49m\u001b[33;43mmd5\u001b[39;49m\u001b[33;43m'\u001b[39;49m\u001b[43m)\u001b[49m\u001b[43m,\u001b[49m\u001b[43m \u001b[49m\u001b[43mreturn_dtype\u001b[49m\u001b[43m=\u001b[49m\u001b[43mpl\u001b[49m\u001b[43m.\u001b[49m\u001b[43mUtf8\u001b[49m\u001b[43m)\u001b[49m\u001b[43m.\u001b[49m\u001b[43malias\u001b[49m\u001b[43m(\u001b[49m\u001b[33;43m\"\u001b[39;49m\u001b[33;43mid\u001b[39;49m\u001b[33;43m\"\u001b[39;49m\u001b[43m)\u001b[49m\n\u001b[32m     43\u001b[39m \u001b[43m)\u001b[49m\n\u001b[32m     44\u001b[39m df.write_excel(\u001b[33m'\u001b[39m\u001b[33m.files/P_Mo_2025_Keywords_Search.xlsx\u001b[39m\u001b[33m'\u001b[39m)\n",
      "\u001b[36mFile \u001b[39m\u001b[32m~/Local Documents/GitHub Repositories/Spellbook/.venv/lib/python3.13/site-packages/polars/dataframe/frame.py:10027\u001b[39m, in \u001b[36mDataFrame.with_columns\u001b[39m\u001b[34m(self, *exprs, **named_exprs)\u001b[39m\n\u001b[32m   9900\u001b[39m \u001b[38;5;250m\u001b[39m\u001b[33;03m\"\"\"\u001b[39;00m\n\u001b[32m   9901\u001b[39m \u001b[33;03mAdd columns to this DataFrame.\u001b[39;00m\n\u001b[32m   9902\u001b[39m \n\u001b[32m   (...)\u001b[39m\u001b[32m  10020\u001b[39m \u001b[33;03m└─────┴──────┴───────┴──────┴───────┘\u001b[39;00m\n\u001b[32m  10021\u001b[39m \u001b[33;03m\"\"\"\u001b[39;00m\n\u001b[32m  10022\u001b[39m \u001b[38;5;28;01mfrom\u001b[39;00m\u001b[38;5;250m \u001b[39m\u001b[34;01mpolars\u001b[39;00m\u001b[34;01m.\u001b[39;00m\u001b[34;01mlazyframe\u001b[39;00m\u001b[34;01m.\u001b[39;00m\u001b[34;01mopt_flags\u001b[39;00m\u001b[38;5;250m \u001b[39m\u001b[38;5;28;01mimport\u001b[39;00m QueryOptFlags\n\u001b[32m  10024\u001b[39m \u001b[38;5;28;01mreturn\u001b[39;00m (\n\u001b[32m  10025\u001b[39m     \u001b[38;5;28;43mself\u001b[39;49m\u001b[43m.\u001b[49m\u001b[43mlazy\u001b[49m\u001b[43m(\u001b[49m\u001b[43m)\u001b[49m\n\u001b[32m  10026\u001b[39m \u001b[43m    \u001b[49m\u001b[43m.\u001b[49m\u001b[43mwith_columns\u001b[49m\u001b[43m(\u001b[49m\u001b[43m*\u001b[49m\u001b[43mexprs\u001b[49m\u001b[43m,\u001b[49m\u001b[43m \u001b[49m\u001b[43m*\u001b[49m\u001b[43m*\u001b[49m\u001b[43mnamed_exprs\u001b[49m\u001b[43m)\u001b[49m\n\u001b[32m> \u001b[39m\u001b[32m10027\u001b[39m \u001b[43m    \u001b[49m\u001b[43m.\u001b[49m\u001b[43mcollect\u001b[49m\u001b[43m(\u001b[49m\u001b[43moptimizations\u001b[49m\u001b[43m=\u001b[49m\u001b[43mQueryOptFlags\u001b[49m\u001b[43m.\u001b[49m\u001b[43m_eager\u001b[49m\u001b[43m(\u001b[49m\u001b[43m)\u001b[49m\u001b[43m)\u001b[49m\n\u001b[32m  10028\u001b[39m )\n",
      "\u001b[36mFile \u001b[39m\u001b[32m~/Local Documents/GitHub Repositories/Spellbook/.venv/lib/python3.13/site-packages/polars/_utils/deprecation.py:97\u001b[39m, in \u001b[36mdeprecate_streaming_parameter.<locals>.decorate.<locals>.wrapper\u001b[39m\u001b[34m(*args, **kwargs)\u001b[39m\n\u001b[32m     93\u001b[39m         kwargs[\u001b[33m\"\u001b[39m\u001b[33mengine\u001b[39m\u001b[33m\"\u001b[39m] = \u001b[33m\"\u001b[39m\u001b[33min-memory\u001b[39m\u001b[33m\"\u001b[39m\n\u001b[32m     95\u001b[39m     \u001b[38;5;28;01mdel\u001b[39;00m kwargs[\u001b[33m\"\u001b[39m\u001b[33mstreaming\u001b[39m\u001b[33m\"\u001b[39m]\n\u001b[32m---> \u001b[39m\u001b[32m97\u001b[39m \u001b[38;5;28;01mreturn\u001b[39;00m \u001b[43mfunction\u001b[49m\u001b[43m(\u001b[49m\u001b[43m*\u001b[49m\u001b[43margs\u001b[49m\u001b[43m,\u001b[49m\u001b[43m \u001b[49m\u001b[43m*\u001b[49m\u001b[43m*\u001b[49m\u001b[43mkwargs\u001b[49m\u001b[43m)\u001b[49m\n",
      "\u001b[36mFile \u001b[39m\u001b[32m~/Local Documents/GitHub Repositories/Spellbook/.venv/lib/python3.13/site-packages/polars/lazyframe/opt_flags.py:330\u001b[39m, in \u001b[36mforward_old_opt_flags.<locals>.decorate.<locals>.wrapper\u001b[39m\u001b[34m(*args, **kwargs)\u001b[39m\n\u001b[32m    327\u001b[39m         optflags = cb(optflags, kwargs.pop(key))  \u001b[38;5;66;03m# type: ignore[no-untyped-call,unused-ignore]\u001b[39;00m\n\u001b[32m    329\u001b[39m kwargs[\u001b[33m\"\u001b[39m\u001b[33moptimizations\u001b[39m\u001b[33m\"\u001b[39m] = optflags\n\u001b[32m--> \u001b[39m\u001b[32m330\u001b[39m \u001b[38;5;28;01mreturn\u001b[39;00m \u001b[43mfunction\u001b[49m\u001b[43m(\u001b[49m\u001b[43m*\u001b[49m\u001b[43margs\u001b[49m\u001b[43m,\u001b[49m\u001b[43m \u001b[49m\u001b[43m*\u001b[49m\u001b[43m*\u001b[49m\u001b[43mkwargs\u001b[49m\u001b[43m)\u001b[49m\n",
      "\u001b[36mFile \u001b[39m\u001b[32m~/Local Documents/GitHub Repositories/Spellbook/.venv/lib/python3.13/site-packages/polars/lazyframe/frame.py:2335\u001b[39m, in \u001b[36mLazyFrame.collect\u001b[39m\u001b[34m(self, type_coercion, predicate_pushdown, projection_pushdown, simplify_expression, slice_pushdown, comm_subplan_elim, comm_subexpr_elim, cluster_with_columns, collapse_joins, no_optimization, engine, background, optimizations, **_kwargs)\u001b[39m\n\u001b[32m   2333\u001b[39m \u001b[38;5;66;03m# Only for testing purposes\u001b[39;00m\n\u001b[32m   2334\u001b[39m callback = _kwargs.get(\u001b[33m\"\u001b[39m\u001b[33mpost_opt_callback\u001b[39m\u001b[33m\"\u001b[39m, callback)\n\u001b[32m-> \u001b[39m\u001b[32m2335\u001b[39m \u001b[38;5;28;01mreturn\u001b[39;00m wrap_df(\u001b[43mldf\u001b[49m\u001b[43m.\u001b[49m\u001b[43mcollect\u001b[49m\u001b[43m(\u001b[49m\u001b[43mengine\u001b[49m\u001b[43m,\u001b[49m\u001b[43m \u001b[49m\u001b[43mcallback\u001b[49m\u001b[43m)\u001b[49m)\n",
      "\u001b[31mColumnNotFoundError\u001b[39m: unable to find column \"date_string\"; valid columns: []"
     ]
    }
   ],
   "source": [
    "site_list = [\n",
    "  'pantip.com',\n",
    "  #'x.com',\n",
    "  #'facebook.com',\n",
    "  #'tiktok.com',\n",
    "  #'twitter.com',\n",
    "  #'instagram.com',\n",
    "]\n",
    "\n",
    "results_list = []\n",
    "\n",
    "for keyword in keywords:\n",
    "  for site in site_list:\n",
    "    keyword_mod = keyword.lower().replace(' ', '+')\n",
    "    google_search_url = f\"https://www.google.com/search?q={keyword_mod}+site:{site}+after:2024&as_epq={keyword_mod}\"\n",
    "    print(f'Crawling::{keyword_mod} Site::{site}\\n{google_search_url}')\n",
    "\n",
    "    results = await scraper.search.search_from_url(\n",
    "      google_search_url,\n",
    "      #extraction_schema={\n",
    "      #  \"baseSelector\": \"li.pt-list-item.pt-list-item__sr__no-img\",\n",
    "      #  \"fields\": [{\"name\": \"url\", \"selector\": \"a\", \"type\": \"attribute\", \"attribute\": \"href\"},],\n",
    "      #},\n",
    "      provider=\"google\",\n",
    "      max_results=None,\n",
    "      return_schema=True,\n",
    "      max_paginate=1,\n",
    "    )\n",
    "\n",
    "    # Add 'site' and 'keyword' to each result dict\n",
    "    for r in results:\n",
    "      r['site'] = site\n",
    "      r['keyword'] = keyword\n",
    "    results_list.extend(results)\n",
    "\n",
    "    # Clears the current cell output\n",
    "    clear_output(wait=True)\n",
    "\n",
    "df = pl.DataFrame(results_list)\n",
    "df = df.with_columns(\n",
    "    pl.col('date_string').map_elements(lambda s: sb_utils.datetime_processing.parse_thai_date(s), return_dtype=pl.Date).alias(\"parsed_date\"),\n",
    "    pl.col('url').map_elements(lambda u: sb_utils.hashing.hash_function(u.strip(), algo='md5'), return_dtype=pl.Utf8).alias(\"id\")\n",
    ")\n",
    "df.write_excel('.files/P_Mo_2025_Keywords_Search.xlsx')"
   ]
  },
  {
   "cell_type": "code",
   "execution_count": null,
   "id": "2e9f82d0",
   "metadata": {},
   "outputs": [
    {
     "data": {
      "text/plain": [
       "[]"
      ]
     },
     "execution_count": 9,
     "metadata": {},
     "output_type": "execute_result"
    }
   ],
   "source": [
    "results"
   ]
  },
  {
   "cell_type": "code",
   "execution_count": null,
   "id": "6185b765",
   "metadata": {},
   "outputs": [],
   "source": [
    "#results = asyncio.run(scraper.search.search_keywords_all_platforms(keywords))\n",
    "#results"
   ]
  },
  {
   "cell_type": "code",
   "execution_count": null,
   "id": "c247453e",
   "metadata": {},
   "outputs": [],
   "source": [
    "#result = asyncio.run(scraper.crawler.crawl_pantip_topic())\n",
    "#result"
   ]
  }
 ],
 "metadata": {
  "kernelspec": {
   "display_name": ".venv",
   "language": "python",
   "name": "python3"
  },
  "language_info": {
   "codemirror_mode": {
    "name": "ipython",
    "version": 3
   },
   "file_extension": ".py",
   "mimetype": "text/x-python",
   "name": "python",
   "nbconvert_exporter": "python",
   "pygments_lexer": "ipython3",
   "version": "3.13.1"
  }
 },
 "nbformat": 4,
 "nbformat_minor": 5
}
