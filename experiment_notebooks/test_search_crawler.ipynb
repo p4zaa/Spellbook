{
 "cells": [
  {
   "cell_type": "code",
   "execution_count": 1,
   "id": "9c7adce1",
   "metadata": {},
   "outputs": [],
   "source": [
    "from IPython.display import clear_output"
   ]
  },
  {
   "cell_type": "code",
   "execution_count": 2,
   "id": "5cf6de61",
   "metadata": {},
   "outputs": [
    {
     "name": "stderr",
     "output_type": "stream",
     "text": [
      "[nltk_data] Downloading package punkt to /Users/pa/nltk_data...\n",
      "[nltk_data]   Package punkt is already up-to-date!\n",
      "[nltk_data] Downloading package punkt_tab to /Users/pa/nltk_data...\n",
      "[nltk_data]   Package punkt_tab is already up-to-date!\n",
      "[nltk_data] Downloading package stopwords to /Users/pa/nltk_data...\n",
      "[nltk_data]   Package stopwords is already up-to-date!\n"
     ]
    }
   ],
   "source": [
    "import sys\n",
    "import polars as pl\n",
    "sys.path.append('/Users/pa/Local Documents/GitHub Repositories/Spellbook') #for macos\n",
    "#sys.path.append(r'C:\\Users\\patom\\OneDrive\\Documents\\Repo\\Spellbook') # for windows\n",
    "from spellbook import scraper, utils as sb_utils\n",
    "import nest_asyncio, asyncio\n",
    "nest_asyncio.apply()"
   ]
  },
  {
   "cell_type": "code",
   "execution_count": 3,
   "id": "b92bab81",
   "metadata": {},
   "outputs": [],
   "source": [
    "# For Windows, set SelectorEventLoop instead of ProactorEventLoop\n",
    "if hasattr(asyncio, \"WindowsSelectorEventLoopPolicy\"):\n",
    "    print(\"Setting WindowsSelectorEventLoopPolicy\")\n",
    "    asyncio.set_event_loop_policy(asyncio.WindowsSelectorEventLoopPolicy())"
   ]
  },
  {
   "cell_type": "code",
   "execution_count": 6,
   "id": "9f8184be",
   "metadata": {},
   "outputs": [
    {
     "name": "stdout",
     "output_type": "stream",
     "text": [
      "Crawling::travel+card Site::pantip.com\n",
      "https://www.google.com/search?q=travel+card+site:pantip.com+after:2024&as_epq=travel+card\n"
     ]
    },
    {
     "data": {
      "text/html": [
       "<pre style=\"white-space:pre;overflow-x:auto;line-height:normal;font-family:Menlo,'DejaVu Sans Mono',consolas,'Courier New',monospace\"><span style=\"color: #008080; text-decoration-color: #008080; font-weight: bold\">[</span><span style=\"color: #008080; text-decoration-color: #008080\">INIT</span><span style=\"color: #008080; text-decoration-color: #008080; font-weight: bold\">]</span><span style=\"color: #008080; text-decoration-color: #008080\">.... → Crawl4AI </span><span style=\"color: #008080; text-decoration-color: #008080; font-weight: bold\">0.7</span><span style=\"color: #008080; text-decoration-color: #008080\">.</span><span style=\"color: #008080; text-decoration-color: #008080; font-weight: bold\">4</span><span style=\"color: #008080; text-decoration-color: #008080\"> </span>\n",
       "</pre>\n"
      ],
      "text/plain": [
       "\u001b[1;36m[\u001b[0m\u001b[36mINIT\u001b[0m\u001b[1;36m]\u001b[0m\u001b[36m...\u001b[0m\u001b[36m. → Crawl4AI \u001b[0m\u001b[1;36m0.7\u001b[0m\u001b[36m.\u001b[0m\u001b[1;36m4\u001b[0m\u001b[36m \u001b[0m\n"
      ]
     },
     "metadata": {},
     "output_type": "display_data"
    },
    {
     "data": {
      "text/html": [
       "<pre style=\"white-space:pre;overflow-x:auto;line-height:normal;font-family:Menlo,'DejaVu Sans Mono',consolas,'Courier New',monospace\"><span style=\"color: #808000; text-decoration-color: #808000; font-weight: bold\">[</span><span style=\"color: #808000; text-decoration-color: #808000\">PAGE_SCAN</span><span style=\"color: #808000; text-decoration-color: #808000; font-weight: bold\">]</span><span style=\"color: #808000; text-decoration-color: #808000\"> ℹ Failed to perform full page scan: Page.evaluate: Execution context was destroyed, most likely because</span>\n",
       "<span style=\"color: #808000; text-decoration-color: #808000\">of a navigation </span>\n",
       "</pre>\n"
      ],
      "text/plain": [
       "\u001b[1;33m[\u001b[0m\u001b[33mPAGE_SCAN\u001b[0m\u001b[1;33m]\u001b[0m\u001b[33m ℹ Failed to perform full page scan: Page.evaluate: Execution context was destroyed, most likely because\u001b[0m\n",
       "\u001b[33mof a navigation \u001b[0m\n"
      ]
     },
     "metadata": {},
     "output_type": "display_data"
    },
    {
     "data": {
      "text/html": [
       "<pre style=\"white-space:pre;overflow-x:auto;line-height:normal;font-family:Menlo,'DejaVu Sans Mono',consolas,'Courier New',monospace\"><span style=\"color: #008080; text-decoration-color: #008080; font-weight: bold\">[</span><span style=\"color: #008080; text-decoration-color: #008080\">VSCROLL</span><span style=\"color: #008080; text-decoration-color: #008080; font-weight: bold\">]</span><span style=\"color: #008080; text-decoration-color: #008080\">. ℹ Starting virtual scroll capture for container: hrml, body </span>\n",
       "</pre>\n"
      ],
      "text/plain": [
       "\u001b[1;36m[\u001b[0m\u001b[36mVSCROLL\u001b[0m\u001b[1;36m]\u001b[0m\u001b[36m. ℹ Starting virtual scroll capture for container: hrml, body \u001b[0m\n"
      ]
     },
     "metadata": {},
     "output_type": "display_data"
    },
    {
     "data": {
      "text/html": [
       "<pre style=\"white-space:pre;overflow-x:auto;line-height:normal;font-family:Menlo,'DejaVu Sans Mono',consolas,'Courier New',monospace\"><span style=\"color: #008000; text-decoration-color: #008000; font-weight: bold\">[</span><span style=\"color: #008000; text-decoration-color: #008000\">VSCROLL</span><span style=\"color: #008000; text-decoration-color: #008000; font-weight: bold\">]</span><span style=\"color: #008000; text-decoration-color: #008000\">. ℹ Virtual scroll completed. Merged </span><span style=\"color: #008000; text-decoration-color: #008000; font-weight: bold\">5</span><span style=\"color: #008000; text-decoration-color: #008000\"> unique elements from </span><span style=\"color: #008000; text-decoration-color: #008000; font-weight: bold\">2</span><span style=\"color: #008000; text-decoration-color: #008000\"> chunks </span>\n",
       "</pre>\n"
      ],
      "text/plain": [
       "\u001b[1;32m[\u001b[0m\u001b[32mVSCROLL\u001b[0m\u001b[1;32m]\u001b[0m\u001b[32m. ℹ Virtual scroll completed. Merged \u001b[0m\u001b[1;32m5\u001b[0m\u001b[32m unique elements from \u001b[0m\u001b[1;32m2\u001b[0m\u001b[32m chunks \u001b[0m\n"
      ]
     },
     "metadata": {},
     "output_type": "display_data"
    },
    {
     "data": {
      "text/html": [
       "<pre style=\"white-space:pre;overflow-x:auto;line-height:normal;font-family:Menlo,'DejaVu Sans Mono',consolas,'Courier New',monospace\"><span style=\"color: #008000; text-decoration-color: #008000; font-weight: bold\">[</span><span style=\"color: #008000; text-decoration-color: #008000\">FETCH</span><span style=\"color: #008000; text-decoration-color: #008000; font-weight: bold\">]</span><span style=\"color: #008000; text-decoration-color: #008000\">... ↓ </span><span style=\"color: #008000; text-decoration-color: #008000; text-decoration: underline\">https://pantip.com/search?q=travel+card&amp;timebias=true</span><span style=\"color: #008000; text-decoration-color: #008000\">                                                |</span>\n",
       "<span style=\"color: #008000; text-decoration-color: #008000\">✓ | ⏱: </span><span style=\"color: #008000; text-decoration-color: #008000; font-weight: bold\">40.</span><span style=\"color: #008000; text-decoration-color: #008000\">32s </span>\n",
       "</pre>\n"
      ],
      "text/plain": [
       "\u001b[1;32m[\u001b[0m\u001b[32mFETCH\u001b[0m\u001b[1;32m]\u001b[0m\u001b[32m...\u001b[0m\u001b[32m ↓ \u001b[0m\u001b[4;32mhttps://pantip.com/search?\u001b[0m\u001b[4;32mq\u001b[0m\u001b[4;32m=\u001b[0m\u001b[4;32mtravel\u001b[0m\u001b[4;32m+card&\u001b[0m\u001b[4;32mtimebias\u001b[0m\u001b[4;32m=\u001b[0m\u001b[4;32mtrue\u001b[0m\u001b[32m                                                |\u001b[0m\n",
       "\u001b[32m✓\u001b[0m\u001b[32m | ⏱: \u001b[0m\u001b[1;32m40.\u001b[0m\u001b[32m32s \u001b[0m\n"
      ]
     },
     "metadata": {},
     "output_type": "display_data"
    },
    {
     "data": {
      "text/html": [
       "<pre style=\"white-space:pre;overflow-x:auto;line-height:normal;font-family:Menlo,'DejaVu Sans Mono',consolas,'Courier New',monospace\"><span style=\"color: #008000; text-decoration-color: #008000; font-weight: bold\">[</span><span style=\"color: #008000; text-decoration-color: #008000\">SCRAPE</span><span style=\"color: #008000; text-decoration-color: #008000; font-weight: bold\">]</span><span style=\"color: #008000; text-decoration-color: #008000\">.. ◆ </span><span style=\"color: #008000; text-decoration-color: #008000; text-decoration: underline\">https://pantip.com/search?q=travel+card&amp;timebias=true</span><span style=\"color: #008000; text-decoration-color: #008000\">                                                |</span>\n",
       "<span style=\"color: #008000; text-decoration-color: #008000\">✓ | ⏱: </span><span style=\"color: #008000; text-decoration-color: #008000; font-weight: bold\">0.</span><span style=\"color: #008000; text-decoration-color: #008000\">07s </span>\n",
       "</pre>\n"
      ],
      "text/plain": [
       "\u001b[1;32m[\u001b[0m\u001b[32mSCRAPE\u001b[0m\u001b[1;32m]\u001b[0m\u001b[32m.. ◆ \u001b[0m\u001b[4;32mhttps://pantip.com/search?\u001b[0m\u001b[4;32mq\u001b[0m\u001b[4;32m=\u001b[0m\u001b[4;32mtravel\u001b[0m\u001b[4;32m+card&\u001b[0m\u001b[4;32mtimebias\u001b[0m\u001b[4;32m=\u001b[0m\u001b[4;32mtrue\u001b[0m\u001b[32m                                                |\u001b[0m\n",
       "\u001b[32m✓\u001b[0m\u001b[32m | ⏱: \u001b[0m\u001b[1;32m0.\u001b[0m\u001b[32m07s \u001b[0m\n"
      ]
     },
     "metadata": {},
     "output_type": "display_data"
    },
    {
     "data": {
      "text/html": [
       "<pre style=\"white-space:pre;overflow-x:auto;line-height:normal;font-family:Menlo,'DejaVu Sans Mono',consolas,'Courier New',monospace\"><span style=\"color: #008000; text-decoration-color: #008000; font-weight: bold\">[</span><span style=\"color: #008000; text-decoration-color: #008000\">EXTRACT</span><span style=\"color: #008000; text-decoration-color: #008000; font-weight: bold\">]</span><span style=\"color: #008000; text-decoration-color: #008000\">. ■ </span><span style=\"color: #008000; text-decoration-color: #008000; text-decoration: underline\">https://pantip.com/search?q=travel+card&amp;timebias=true</span><span style=\"color: #008000; text-decoration-color: #008000\">                                                |</span>\n",
       "<span style=\"color: #008000; text-decoration-color: #008000\">✓ | ⏱: </span><span style=\"color: #008000; text-decoration-color: #008000; font-weight: bold\">0.</span><span style=\"color: #008000; text-decoration-color: #008000\">13s </span>\n",
       "</pre>\n"
      ],
      "text/plain": [
       "\u001b[1;32m[\u001b[0m\u001b[32mEXTRACT\u001b[0m\u001b[1;32m]\u001b[0m\u001b[32m. ■ \u001b[0m\u001b[4;32mhttps://pantip.com/search?\u001b[0m\u001b[4;32mq\u001b[0m\u001b[4;32m=\u001b[0m\u001b[4;32mtravel\u001b[0m\u001b[4;32m+card&\u001b[0m\u001b[4;32mtimebias\u001b[0m\u001b[4;32m=\u001b[0m\u001b[4;32mtrue\u001b[0m\u001b[32m                                                |\u001b[0m\n",
       "\u001b[32m✓\u001b[0m\u001b[32m | ⏱: \u001b[0m\u001b[1;32m0.\u001b[0m\u001b[32m13s \u001b[0m\n"
      ]
     },
     "metadata": {},
     "output_type": "display_data"
    },
    {
     "data": {
      "text/html": [
       "<pre style=\"white-space:pre;overflow-x:auto;line-height:normal;font-family:Menlo,'DejaVu Sans Mono',consolas,'Courier New',monospace\"><span style=\"color: #008000; text-decoration-color: #008000; font-weight: bold\">[</span><span style=\"color: #008000; text-decoration-color: #008000\">COMPLETE</span><span style=\"color: #008000; text-decoration-color: #008000; font-weight: bold\">]</span><span style=\"color: #008000; text-decoration-color: #008000\"> ● </span><span style=\"color: #008000; text-decoration-color: #008000; text-decoration: underline\">https://pantip.com/search?q=travel+card&amp;timebias=true</span><span style=\"color: #008000; text-decoration-color: #008000\">                                                |</span>\n",
       "<span style=\"color: #008000; text-decoration-color: #008000\">✓ | ⏱: </span><span style=\"color: #008000; text-decoration-color: #008000; font-weight: bold\">40.</span><span style=\"color: #008000; text-decoration-color: #008000\">53s </span>\n",
       "</pre>\n"
      ],
      "text/plain": [
       "\u001b[1;32m[\u001b[0m\u001b[32mCOMPLETE\u001b[0m\u001b[1;32m]\u001b[0m\u001b[32m ● \u001b[0m\u001b[4;32mhttps://pantip.com/search?\u001b[0m\u001b[4;32mq\u001b[0m\u001b[4;32m=\u001b[0m\u001b[4;32mtravel\u001b[0m\u001b[4;32m+card&\u001b[0m\u001b[4;32mtimebias\u001b[0m\u001b[4;32m=\u001b[0m\u001b[4;32mtrue\u001b[0m\u001b[32m                                                |\u001b[0m\n",
       "\u001b[32m✓\u001b[0m\u001b[32m | ⏱: \u001b[0m\u001b[1;32m40.\u001b[0m\u001b[32m53s \u001b[0m\n"
      ]
     },
     "metadata": {},
     "output_type": "display_data"
    },
    {
     "name": "stdout",
     "output_type": "stream",
     "text": [
      "⚠️  CAPTCHA detected on page 1: html_content\n",
      "   Details: Found indicators: captcha\n",
      "   URL: https://pantip.com/search?q=travel+card&timebias=true\n",
      "   💡 CAPTCHA handling for multi-window mode...\n"
     ]
    },
    {
     "data": {
      "text/html": [
       "<pre style=\"white-space:pre;overflow-x:auto;line-height:normal;font-family:Menlo,'DejaVu Sans Mono',consolas,'Courier New',monospace\"><span style=\"color: #008080; text-decoration-color: #008080; font-weight: bold\">[</span><span style=\"color: #008080; text-decoration-color: #008080\">INIT</span><span style=\"color: #008080; text-decoration-color: #008080; font-weight: bold\">]</span><span style=\"color: #008080; text-decoration-color: #008080\">.... → Crawl4AI </span><span style=\"color: #008080; text-decoration-color: #008080; font-weight: bold\">0.7</span><span style=\"color: #008080; text-decoration-color: #008080\">.</span><span style=\"color: #008080; text-decoration-color: #008080; font-weight: bold\">4</span><span style=\"color: #008080; text-decoration-color: #008080\"> </span>\n",
       "</pre>\n"
      ],
      "text/plain": [
       "\u001b[1;36m[\u001b[0m\u001b[36mINIT\u001b[0m\u001b[1;36m]\u001b[0m\u001b[36m...\u001b[0m\u001b[36m. → Crawl4AI \u001b[0m\u001b[1;36m0.7\u001b[0m\u001b[36m.\u001b[0m\u001b[1;36m4\u001b[0m\u001b[36m \u001b[0m\n"
      ]
     },
     "metadata": {},
     "output_type": "display_data"
    },
    {
     "data": {
      "text/html": [
       "<pre style=\"white-space:pre;overflow-x:auto;line-height:normal;font-family:Menlo,'DejaVu Sans Mono',consolas,'Courier New',monospace\"><span style=\"color: #808000; text-decoration-color: #808000; font-weight: bold\">[</span><span style=\"color: #808000; text-decoration-color: #808000\">PAGE_SCAN</span><span style=\"color: #808000; text-decoration-color: #808000; font-weight: bold\">]</span><span style=\"color: #808000; text-decoration-color: #808000\"> ℹ Failed to perform full page scan: Page.wait_for_timeout: Target page, context or browser has been </span>\n",
       "<span style=\"color: #808000; text-decoration-color: #808000\">closed </span>\n",
       "</pre>\n"
      ],
      "text/plain": [
       "\u001b[1;33m[\u001b[0m\u001b[33mPAGE_SCAN\u001b[0m\u001b[1;33m]\u001b[0m\u001b[33m ℹ Failed to perform full page scan: Page.wait_for_timeout: Target page, context or browser has been \u001b[0m\n",
       "\u001b[33mclosed \u001b[0m\n"
      ]
     },
     "metadata": {},
     "output_type": "display_data"
    },
    {
     "data": {
      "text/html": [
       "<pre style=\"white-space:pre;overflow-x:auto;line-height:normal;font-family:Menlo,'DejaVu Sans Mono',consolas,'Courier New',monospace\"><span style=\"color: #008080; text-decoration-color: #008080; font-weight: bold\">[</span><span style=\"color: #008080; text-decoration-color: #008080\">VSCROLL</span><span style=\"color: #008080; text-decoration-color: #008080; font-weight: bold\">]</span><span style=\"color: #008080; text-decoration-color: #008080\">. ℹ Starting virtual scroll capture for container: hrml, body </span>\n",
       "</pre>\n"
      ],
      "text/plain": [
       "\u001b[1;36m[\u001b[0m\u001b[36mVSCROLL\u001b[0m\u001b[1;36m]\u001b[0m\u001b[36m. ℹ Starting virtual scroll capture for container: hrml, body \u001b[0m\n"
      ]
     },
     "metadata": {},
     "output_type": "display_data"
    },
    {
     "data": {
      "text/html": [
       "<pre style=\"white-space:pre;overflow-x:auto;line-height:normal;font-family:Menlo,'DejaVu Sans Mono',consolas,'Courier New',monospace\"><span style=\"color: #800000; text-decoration-color: #800000; font-weight: bold\">[</span><span style=\"color: #800000; text-decoration-color: #800000\">VSCROLL</span><span style=\"color: #800000; text-decoration-color: #800000; font-weight: bold\">]</span><span style=\"color: #800000; text-decoration-color: #800000\">. ℹ Virtual scroll capture failed: Page.evaluate: Target page, context or browser has been closed </span>\n",
       "</pre>\n"
      ],
      "text/plain": [
       "\u001b[1;31m[\u001b[0m\u001b[31mVSCROLL\u001b[0m\u001b[1;31m]\u001b[0m\u001b[31m. ℹ Virtual scroll capture failed: Page.evaluate: Target page, context or browser has been closed \u001b[0m\n"
      ]
     },
     "metadata": {},
     "output_type": "display_data"
    },
    {
     "data": {
      "text/html": [
       "<pre style=\"white-space:pre;overflow-x:auto;line-height:normal;font-family:Menlo,'DejaVu Sans Mono',consolas,'Courier New',monospace\"><span style=\"color: #800000; text-decoration-color: #800000; font-weight: bold\">[</span><span style=\"color: #800000; text-decoration-color: #800000\">ERROR</span><span style=\"color: #800000; text-decoration-color: #800000; font-weight: bold\">]</span><span style=\"color: #800000; text-decoration-color: #800000\">... × Error updating image dimensions: Page.evaluate: Target page, context or browser has been closed </span>\n",
       "</pre>\n"
      ],
      "text/plain": [
       "\u001b[1;31m[\u001b[0m\u001b[31mERROR\u001b[0m\u001b[1;31m]\u001b[0m\u001b[31m...\u001b[0m\u001b[31m × Error updating image dimensions: Page.evaluate: Target page, context or browser has been closed \u001b[0m\n"
      ]
     },
     "metadata": {},
     "output_type": "display_data"
    },
    {
     "data": {
      "text/html": [
       "<pre style=\"white-space:pre;overflow-x:auto;line-height:normal;font-family:Menlo,'DejaVu Sans Mono',consolas,'Courier New',monospace\"><span style=\"color: #800000; text-decoration-color: #800000; font-weight: bold\">[</span><span style=\"color: #800000; text-decoration-color: #800000\">ERROR</span><span style=\"color: #800000; text-decoration-color: #800000; font-weight: bold\">]</span><span style=\"color: #800000; text-decoration-color: #800000\">... × </span><span style=\"color: #800000; text-decoration-color: #800000; text-decoration: underline\">https://pantip.com/sear...avel+card&amp;timebias=true</span><span style=\"color: #800000; text-decoration-color: #800000\">  | Error: Unexpected error in _crawl_web at line </span><span style=\"color: #800000; text-decoration-color: #800000; font-weight: bold\">558</span>\n",
       "<span style=\"color: #800000; text-decoration-color: #800000\">in wrap_api_call </span><span style=\"color: #800000; text-decoration-color: #800000; font-weight: bold\">(</span><span style=\"color: #800000; text-decoration-color: #800000\">../.venv/lib/python3.13/site-packages/playwright/_impl/_connection.py</span><span style=\"color: #800000; text-decoration-color: #800000; font-weight: bold\">)</span><span style=\"color: #800000; text-decoration-color: #800000\">:</span>\n",
       "<span style=\"color: #800000; text-decoration-color: #800000\">Error: Page.content: Target page, context or browser has been closed</span>\n",
       "\n",
       "<span style=\"color: #800000; text-decoration-color: #800000\">Code context:</span>\n",
       "<span style=\"color: #800000; text-decoration-color: #800000\"> </span><span style=\"color: #800000; text-decoration-color: #800000; font-weight: bold\">553</span><span style=\"color: #800000; text-decoration-color: #800000\">           parsed_st = </span><span style=\"color: #800000; text-decoration-color: #800000; font-weight: bold\">_extract_stack_trace_information_from_stack(</span><span style=\"color: #800000; text-decoration-color: #800000\">st, is_internal, title</span><span style=\"color: #800000; text-decoration-color: #800000; font-weight: bold\">)</span>\n",
       "<span style=\"color: #800000; text-decoration-color: #800000\"> </span><span style=\"color: #800000; text-decoration-color: #800000; font-weight: bold\">554</span><span style=\"color: #800000; text-decoration-color: #800000\">           </span><span style=\"color: #800000; text-decoration-color: #800000; font-weight: bold\">self._api_zone.set(</span><span style=\"color: #800000; text-decoration-color: #800000\">parsed_st</span><span style=\"color: #800000; text-decoration-color: #800000; font-weight: bold\">)</span>\n",
       "<span style=\"color: #800000; text-decoration-color: #800000\"> </span><span style=\"color: #800000; text-decoration-color: #800000; font-weight: bold\">555</span><span style=\"color: #800000; text-decoration-color: #800000\">           try:</span>\n",
       "<span style=\"color: #800000; text-decoration-color: #800000\"> </span><span style=\"color: #800000; text-decoration-color: #800000; font-weight: bold\">556</span><span style=\"color: #800000; text-decoration-color: #800000\">               return await </span><span style=\"color: #800000; text-decoration-color: #800000; font-weight: bold\">cb()</span>\n",
       "<span style=\"color: #800000; text-decoration-color: #800000\"> </span><span style=\"color: #800000; text-decoration-color: #800000; font-weight: bold\">557</span><span style=\"color: #800000; text-decoration-color: #800000\">           except Exception as error:</span>\n",
       "<span style=\"color: #800000; text-decoration-color: #800000\"> </span><span style=\"color: #800000; text-decoration-color: #800000; font-weight: bold\">558</span><span style=\"color: #800000; text-decoration-color: #800000\"> →             raise </span><span style=\"color: #800000; text-decoration-color: #800000; font-weight: bold\">rewrite_error(</span><span style=\"color: #800000; text-decoration-color: #800000\">error, f\"</span><span style=\"color: #800000; text-decoration-color: #800000; font-weight: bold\">{</span><span style=\"color: #800000; text-decoration-color: #800000\">parsed_st</span><span style=\"color: #800000; text-decoration-color: #800000; font-weight: bold\">[</span><span style=\"color: #800000; text-decoration-color: #800000\">'apiName'</span><span style=\"color: #800000; text-decoration-color: #800000; font-weight: bold\">]}</span><span style=\"color: #800000; text-decoration-color: #800000\">: </span><span style=\"color: #800000; text-decoration-color: #800000; font-weight: bold\">{</span><span style=\"color: #800000; text-decoration-color: #800000\">error</span><span style=\"color: #800000; text-decoration-color: #800000; font-weight: bold\">}</span><span style=\"color: #800000; text-decoration-color: #800000\">\"</span><span style=\"color: #800000; text-decoration-color: #800000; font-weight: bold\">)</span><span style=\"color: #800000; text-decoration-color: #800000\"> from </span><span style=\"color: #800000; text-decoration-color: #800000; font-style: italic\">None</span>\n",
       "<span style=\"color: #800000; text-decoration-color: #800000\"> </span><span style=\"color: #800000; text-decoration-color: #800000; font-weight: bold\">559</span><span style=\"color: #800000; text-decoration-color: #800000\">           finally:</span>\n",
       "<span style=\"color: #800000; text-decoration-color: #800000\"> </span><span style=\"color: #800000; text-decoration-color: #800000; font-weight: bold\">560</span><span style=\"color: #800000; text-decoration-color: #800000\">               </span><span style=\"color: #800000; text-decoration-color: #800000; font-weight: bold\">self._api_zone.set(</span><span style=\"color: #800000; text-decoration-color: #800000; font-style: italic\">None</span><span style=\"color: #800000; text-decoration-color: #800000; font-weight: bold\">)</span>\n",
       "<span style=\"color: #800000; text-decoration-color: #800000\"> </span><span style=\"color: #800000; text-decoration-color: #800000; font-weight: bold\">561</span><span style=\"color: #800000; text-decoration-color: #800000\">   </span>\n",
       "<span style=\"color: #800000; text-decoration-color: #800000\"> </span><span style=\"color: #800000; text-decoration-color: #800000; font-weight: bold\">562</span><span style=\"color: #800000; text-decoration-color: #800000\">       def </span><span style=\"color: #800000; text-decoration-color: #800000; font-weight: bold\">wrap_api_call_sync(</span>\n",
       "<span style=\"color: #800000; text-decoration-color: #800000\"> </span><span style=\"color: #800000; text-decoration-color: #800000; font-weight: bold\">563</span><span style=\"color: #800000; text-decoration-color: #800000\">           self, cb: Callable</span><span style=\"color: #800000; text-decoration-color: #800000; font-weight: bold\">[[]</span><span style=\"color: #800000; text-decoration-color: #800000\">, Any</span><span style=\"color: #800000; text-decoration-color: #800000; font-weight: bold\">]</span><span style=\"color: #800000; text-decoration-color: #800000\">, is_internal: bool = </span><span style=\"color: #800000; text-decoration-color: #800000; font-style: italic\">False</span><span style=\"color: #800000; text-decoration-color: #800000\">, title: str = </span><span style=\"color: #800000; text-decoration-color: #800000; font-style: italic\">None</span><span style=\"color: #800000; text-decoration-color: #800000\"> </span>\n",
       "</pre>\n"
      ],
      "text/plain": [
       "\u001b[1;31m[\u001b[0m\u001b[31mERROR\u001b[0m\u001b[1;31m]\u001b[0m\u001b[31m...\u001b[0m\u001b[31m × \u001b[0m\u001b[4;31mhttps://pantip.com/sear...avel+card&\u001b[0m\u001b[4;31mtimebias\u001b[0m\u001b[4;31m=\u001b[0m\u001b[4;31mtrue\u001b[0m\u001b[31m  | Error: Unexpected error in _crawl_web at line \u001b[0m\u001b[1;31m558\u001b[0m\n",
       "\u001b[31min wrap_api_call \u001b[0m\u001b[1;31m(\u001b[0m\u001b[31m..\u001b[0m\u001b[31m/.venv/lib/python3.13/site-packages/playwright/_impl/\u001b[0m\u001b[31m_connection.py\u001b[0m\u001b[1;31m)\u001b[0m\u001b[31m:\u001b[0m\n",
       "\u001b[31mError: Page.content: Target page, context or browser has been closed\u001b[0m\n",
       "\n",
       "\u001b[31mCode context:\u001b[0m\n",
       "\u001b[31m \u001b[0m\u001b[1;31m553\u001b[0m\u001b[31m           parsed_st = \u001b[0m\u001b[1;31m_extract_stack_trace_information_from_stack\u001b[0m\u001b[1;31m(\u001b[0m\u001b[31mst, is_internal, title\u001b[0m\u001b[1;31m)\u001b[0m\n",
       "\u001b[31m \u001b[0m\u001b[1;31m554\u001b[0m\u001b[31m           \u001b[0m\u001b[1;31mself._api_zone.set\u001b[0m\u001b[1;31m(\u001b[0m\u001b[31mparsed_st\u001b[0m\u001b[1;31m)\u001b[0m\n",
       "\u001b[31m \u001b[0m\u001b[1;31m555\u001b[0m\u001b[31m           try:\u001b[0m\n",
       "\u001b[31m \u001b[0m\u001b[1;31m556\u001b[0m\u001b[31m               return await \u001b[0m\u001b[1;31mcb\u001b[0m\u001b[1;31m(\u001b[0m\u001b[1;31m)\u001b[0m\n",
       "\u001b[31m \u001b[0m\u001b[1;31m557\u001b[0m\u001b[31m           except Exception as error:\u001b[0m\n",
       "\u001b[31m \u001b[0m\u001b[1;31m558\u001b[0m\u001b[31m →             raise \u001b[0m\u001b[1;31mrewrite_error\u001b[0m\u001b[1;31m(\u001b[0m\u001b[31merror, f\"\u001b[0m\u001b[1;31m{\u001b[0m\u001b[31mparsed_st\u001b[0m\u001b[1;31m[\u001b[0m\u001b[31m'apiName'\u001b[0m\u001b[1;31m]\u001b[0m\u001b[1;31m}\u001b[0m\u001b[31m: \u001b[0m\u001b[1;31m{\u001b[0m\u001b[31merror\u001b[0m\u001b[1;31m}\u001b[0m\u001b[31m\"\u001b[0m\u001b[1;31m)\u001b[0m\u001b[31m from \u001b[0m\u001b[3;31mNone\u001b[0m\n",
       "\u001b[31m \u001b[0m\u001b[1;31m559\u001b[0m\u001b[31m           finally:\u001b[0m\n",
       "\u001b[31m \u001b[0m\u001b[1;31m560\u001b[0m\u001b[31m               \u001b[0m\u001b[1;31mself._api_zone.set\u001b[0m\u001b[1;31m(\u001b[0m\u001b[3;31mNone\u001b[0m\u001b[1;31m)\u001b[0m\n",
       "\u001b[31m \u001b[0m\u001b[1;31m561\u001b[0m\u001b[31m   \u001b[0m\n",
       "\u001b[31m \u001b[0m\u001b[1;31m562\u001b[0m\u001b[31m       def \u001b[0m\u001b[1;31mwrap_api_call_sync\u001b[0m\u001b[1;31m(\u001b[0m\n",
       "\u001b[31m \u001b[0m\u001b[1;31m563\u001b[0m\u001b[31m           self, cb: Callable\u001b[0m\u001b[1;31m[\u001b[0m\u001b[1;31m[\u001b[0m\u001b[1;31m]\u001b[0m\u001b[31m, Any\u001b[0m\u001b[1;31m]\u001b[0m\u001b[31m, is_internal: bool = \u001b[0m\u001b[3;31mFalse\u001b[0m\u001b[31m, title: str = \u001b[0m\u001b[3;31mNone\u001b[0m\u001b[31m \u001b[0m\n"
      ]
     },
     "metadata": {},
     "output_type": "display_data"
    },
    {
     "name": "stdout",
     "output_type": "stream",
     "text": [
      "   ✅ CAPTCHA appears to be solved! Continuing...\n"
     ]
    },
    {
     "data": {
      "text/plain": [
       "[]"
      ]
     },
     "execution_count": 6,
     "metadata": {},
     "output_type": "execute_result"
    }
   ],
   "source": [
    "keyword = 'travel card'\n",
    "site = 'pantip.com'\n",
    "keyword_mod = keyword.lower().replace(' ', '+')\n",
    "google_search_url = f\"https://www.google.com/search?q={keyword_mod}+site:{site}+after:2024&as_epq={keyword_mod}\"\n",
    "pantip_search_url = f\"https://pantip.com/search?q={keyword_mod}&timebias=true\"\n",
    "print(f'Crawling::{keyword_mod} Site::{site}\\n{google_search_url}')\n",
    "\n",
    "results = await scraper.search.search_from_url(\n",
    "    #google_search_url,\n",
    "    pantip_search_url,\n",
    "    #extraction_schema={\n",
    "    #  \"baseSelector\": \"li.pt-list-item.pt-list-item__sr__no-img\",\n",
    "    #  \"fields\": [{\"name\": \"url\", \"selector\": \"a\", \"type\": \"attribute\", \"attribute\": \"href\"},],\n",
    "    #},\n",
    "    #provider=\"google\",\n",
    "    max_results=None,\n",
    "    return_schema=True,\n",
    "    max_paginate=50,\n",
    "    headless=False,\n",
    "    pagination_mode='multi_window',\n",
    "    reverse_order=True,\n",
    ")\n",
    "\n",
    "results"
   ]
  },
  {
   "cell_type": "code",
   "execution_count": null,
   "id": "e0a4ab6a",
   "metadata": {},
   "outputs": [
    {
     "data": {
      "text/plain": [
       "30"
      ]
     },
     "execution_count": 5,
     "metadata": {},
     "output_type": "execute_result"
    }
   ],
   "source": [
    "len(results)"
   ]
  },
  {
   "cell_type": "code",
   "execution_count": null,
   "id": "ae9af995",
   "metadata": {},
   "outputs": [
    {
     "ename": "NameError",
     "evalue": "name 'bobo' is not defined",
     "output_type": "error",
     "traceback": [
      "\u001b[31m---------------------------------------------------------------------------\u001b[39m",
      "\u001b[31mNameError\u001b[39m                                 Traceback (most recent call last)",
      "\u001b[36mCell\u001b[39m\u001b[36m \u001b[39m\u001b[32mIn[6]\u001b[39m\u001b[32m, line 1\u001b[39m\n\u001b[32m----> \u001b[39m\u001b[32m1\u001b[39m \u001b[43mbobo\u001b[49m\n",
      "\u001b[31mNameError\u001b[39m: name 'bobo' is not defined"
     ]
    }
   ],
   "source": [
    "bobo"
   ]
  },
  {
   "cell_type": "code",
   "execution_count": null,
   "id": "5ca5f280",
   "metadata": {},
   "outputs": [],
   "source": [
    "keywords = [\n",
    "    #\"travel card\",\n",
    "    \"บัตรเดบิต\",\n",
    "    #\"โมบายแบงก์กิ้ง\",\n",
    "    #\"กองทุน\",\n",
    "    #\"ประกันชีวิต\",\n",
    "    #\"ประกันภัย\",\n",
    "    #\"บัตรกดเงินสด\",\n",
    "    #\"บัตรเครดิต\",\n",
    "    #\"สินเชื่อรถ\",\n",
    "    #\"สินเชื่อบ้าน\",\n",
    "    #\"สินเชื่อส่วนบุคคล\",\n",
    "    #\"บัญชี\",\n",
    "    ]"
   ]
  },
  {
   "cell_type": "code",
   "execution_count": null,
   "id": "004e55a2",
   "metadata": {},
   "outputs": [
    {
     "ename": "ColumnNotFoundError",
     "evalue": "unable to find column \"date_string\"; valid columns: []",
     "output_type": "error",
     "traceback": [
      "\u001b[31m---------------------------------------------------------------------------\u001b[39m",
      "\u001b[31mColumnNotFoundError\u001b[39m                       Traceback (most recent call last)",
      "\u001b[36mCell\u001b[39m\u001b[36m \u001b[39m\u001b[32mIn[7]\u001b[39m\u001b[32m, line 40\u001b[39m\n\u001b[32m     37\u001b[39m     clear_output(wait=\u001b[38;5;28;01mTrue\u001b[39;00m)\n\u001b[32m     39\u001b[39m df = pl.DataFrame(results_list)\n\u001b[32m---> \u001b[39m\u001b[32m40\u001b[39m df = \u001b[43mdf\u001b[49m\u001b[43m.\u001b[49m\u001b[43mwith_columns\u001b[49m\u001b[43m(\u001b[49m\n\u001b[32m     41\u001b[39m \u001b[43m    \u001b[49m\u001b[43mpl\u001b[49m\u001b[43m.\u001b[49m\u001b[43mcol\u001b[49m\u001b[43m(\u001b[49m\u001b[33;43m'\u001b[39;49m\u001b[33;43mdate_string\u001b[39;49m\u001b[33;43m'\u001b[39;49m\u001b[43m)\u001b[49m\u001b[43m.\u001b[49m\u001b[43mmap_elements\u001b[49m\u001b[43m(\u001b[49m\u001b[38;5;28;43;01mlambda\u001b[39;49;00m\u001b[43m \u001b[49m\u001b[43ms\u001b[49m\u001b[43m:\u001b[49m\u001b[43m \u001b[49m\u001b[43msb_utils\u001b[49m\u001b[43m.\u001b[49m\u001b[43mdatetime_processing\u001b[49m\u001b[43m.\u001b[49m\u001b[43mparse_thai_date\u001b[49m\u001b[43m(\u001b[49m\u001b[43ms\u001b[49m\u001b[43m)\u001b[49m\u001b[43m,\u001b[49m\u001b[43m \u001b[49m\u001b[43mreturn_dtype\u001b[49m\u001b[43m=\u001b[49m\u001b[43mpl\u001b[49m\u001b[43m.\u001b[49m\u001b[43mDate\u001b[49m\u001b[43m)\u001b[49m\u001b[43m.\u001b[49m\u001b[43malias\u001b[49m\u001b[43m(\u001b[49m\u001b[33;43m\"\u001b[39;49m\u001b[33;43mparsed_date\u001b[39;49m\u001b[33;43m\"\u001b[39;49m\u001b[43m)\u001b[49m\u001b[43m,\u001b[49m\n\u001b[32m     42\u001b[39m \u001b[43m    \u001b[49m\u001b[43mpl\u001b[49m\u001b[43m.\u001b[49m\u001b[43mcol\u001b[49m\u001b[43m(\u001b[49m\u001b[33;43m'\u001b[39;49m\u001b[33;43murl\u001b[39;49m\u001b[33;43m'\u001b[39;49m\u001b[43m)\u001b[49m\u001b[43m.\u001b[49m\u001b[43mmap_elements\u001b[49m\u001b[43m(\u001b[49m\u001b[38;5;28;43;01mlambda\u001b[39;49;00m\u001b[43m \u001b[49m\u001b[43mu\u001b[49m\u001b[43m:\u001b[49m\u001b[43m \u001b[49m\u001b[43msb_utils\u001b[49m\u001b[43m.\u001b[49m\u001b[43mhashing\u001b[49m\u001b[43m.\u001b[49m\u001b[43mhash_function\u001b[49m\u001b[43m(\u001b[49m\u001b[43mu\u001b[49m\u001b[43m.\u001b[49m\u001b[43mstrip\u001b[49m\u001b[43m(\u001b[49m\u001b[43m)\u001b[49m\u001b[43m,\u001b[49m\u001b[43m \u001b[49m\u001b[43malgo\u001b[49m\u001b[43m=\u001b[49m\u001b[33;43m'\u001b[39;49m\u001b[33;43mmd5\u001b[39;49m\u001b[33;43m'\u001b[39;49m\u001b[43m)\u001b[49m\u001b[43m,\u001b[49m\u001b[43m \u001b[49m\u001b[43mreturn_dtype\u001b[49m\u001b[43m=\u001b[49m\u001b[43mpl\u001b[49m\u001b[43m.\u001b[49m\u001b[43mUtf8\u001b[49m\u001b[43m)\u001b[49m\u001b[43m.\u001b[49m\u001b[43malias\u001b[49m\u001b[43m(\u001b[49m\u001b[33;43m\"\u001b[39;49m\u001b[33;43mid\u001b[39;49m\u001b[33;43m\"\u001b[39;49m\u001b[43m)\u001b[49m\n\u001b[32m     43\u001b[39m \u001b[43m)\u001b[49m\n\u001b[32m     44\u001b[39m df.write_excel(\u001b[33m'\u001b[39m\u001b[33m.files/P_Mo_2025_Keywords_Search.xlsx\u001b[39m\u001b[33m'\u001b[39m)\n",
      "\u001b[36mFile \u001b[39m\u001b[32m~/Local Documents/GitHub Repositories/Spellbook/.venv/lib/python3.13/site-packages/polars/dataframe/frame.py:10027\u001b[39m, in \u001b[36mDataFrame.with_columns\u001b[39m\u001b[34m(self, *exprs, **named_exprs)\u001b[39m\n\u001b[32m   9900\u001b[39m \u001b[38;5;250m\u001b[39m\u001b[33;03m\"\"\"\u001b[39;00m\n\u001b[32m   9901\u001b[39m \u001b[33;03mAdd columns to this DataFrame.\u001b[39;00m\n\u001b[32m   9902\u001b[39m \n\u001b[32m   (...)\u001b[39m\u001b[32m  10020\u001b[39m \u001b[33;03m└─────┴──────┴───────┴──────┴───────┘\u001b[39;00m\n\u001b[32m  10021\u001b[39m \u001b[33;03m\"\"\"\u001b[39;00m\n\u001b[32m  10022\u001b[39m \u001b[38;5;28;01mfrom\u001b[39;00m\u001b[38;5;250m \u001b[39m\u001b[34;01mpolars\u001b[39;00m\u001b[34;01m.\u001b[39;00m\u001b[34;01mlazyframe\u001b[39;00m\u001b[34;01m.\u001b[39;00m\u001b[34;01mopt_flags\u001b[39;00m\u001b[38;5;250m \u001b[39m\u001b[38;5;28;01mimport\u001b[39;00m QueryOptFlags\n\u001b[32m  10024\u001b[39m \u001b[38;5;28;01mreturn\u001b[39;00m (\n\u001b[32m  10025\u001b[39m     \u001b[38;5;28;43mself\u001b[39;49m\u001b[43m.\u001b[49m\u001b[43mlazy\u001b[49m\u001b[43m(\u001b[49m\u001b[43m)\u001b[49m\n\u001b[32m  10026\u001b[39m \u001b[43m    \u001b[49m\u001b[43m.\u001b[49m\u001b[43mwith_columns\u001b[49m\u001b[43m(\u001b[49m\u001b[43m*\u001b[49m\u001b[43mexprs\u001b[49m\u001b[43m,\u001b[49m\u001b[43m \u001b[49m\u001b[43m*\u001b[49m\u001b[43m*\u001b[49m\u001b[43mnamed_exprs\u001b[49m\u001b[43m)\u001b[49m\n\u001b[32m> \u001b[39m\u001b[32m10027\u001b[39m \u001b[43m    \u001b[49m\u001b[43m.\u001b[49m\u001b[43mcollect\u001b[49m\u001b[43m(\u001b[49m\u001b[43moptimizations\u001b[49m\u001b[43m=\u001b[49m\u001b[43mQueryOptFlags\u001b[49m\u001b[43m.\u001b[49m\u001b[43m_eager\u001b[49m\u001b[43m(\u001b[49m\u001b[43m)\u001b[49m\u001b[43m)\u001b[49m\n\u001b[32m  10028\u001b[39m )\n",
      "\u001b[36mFile \u001b[39m\u001b[32m~/Local Documents/GitHub Repositories/Spellbook/.venv/lib/python3.13/site-packages/polars/_utils/deprecation.py:97\u001b[39m, in \u001b[36mdeprecate_streaming_parameter.<locals>.decorate.<locals>.wrapper\u001b[39m\u001b[34m(*args, **kwargs)\u001b[39m\n\u001b[32m     93\u001b[39m         kwargs[\u001b[33m\"\u001b[39m\u001b[33mengine\u001b[39m\u001b[33m\"\u001b[39m] = \u001b[33m\"\u001b[39m\u001b[33min-memory\u001b[39m\u001b[33m\"\u001b[39m\n\u001b[32m     95\u001b[39m     \u001b[38;5;28;01mdel\u001b[39;00m kwargs[\u001b[33m\"\u001b[39m\u001b[33mstreaming\u001b[39m\u001b[33m\"\u001b[39m]\n\u001b[32m---> \u001b[39m\u001b[32m97\u001b[39m \u001b[38;5;28;01mreturn\u001b[39;00m \u001b[43mfunction\u001b[49m\u001b[43m(\u001b[49m\u001b[43m*\u001b[49m\u001b[43margs\u001b[49m\u001b[43m,\u001b[49m\u001b[43m \u001b[49m\u001b[43m*\u001b[49m\u001b[43m*\u001b[49m\u001b[43mkwargs\u001b[49m\u001b[43m)\u001b[49m\n",
      "\u001b[36mFile \u001b[39m\u001b[32m~/Local Documents/GitHub Repositories/Spellbook/.venv/lib/python3.13/site-packages/polars/lazyframe/opt_flags.py:330\u001b[39m, in \u001b[36mforward_old_opt_flags.<locals>.decorate.<locals>.wrapper\u001b[39m\u001b[34m(*args, **kwargs)\u001b[39m\n\u001b[32m    327\u001b[39m         optflags = cb(optflags, kwargs.pop(key))  \u001b[38;5;66;03m# type: ignore[no-untyped-call,unused-ignore]\u001b[39;00m\n\u001b[32m    329\u001b[39m kwargs[\u001b[33m\"\u001b[39m\u001b[33moptimizations\u001b[39m\u001b[33m\"\u001b[39m] = optflags\n\u001b[32m--> \u001b[39m\u001b[32m330\u001b[39m \u001b[38;5;28;01mreturn\u001b[39;00m \u001b[43mfunction\u001b[49m\u001b[43m(\u001b[49m\u001b[43m*\u001b[49m\u001b[43margs\u001b[49m\u001b[43m,\u001b[49m\u001b[43m \u001b[49m\u001b[43m*\u001b[49m\u001b[43m*\u001b[49m\u001b[43mkwargs\u001b[49m\u001b[43m)\u001b[49m\n",
      "\u001b[36mFile \u001b[39m\u001b[32m~/Local Documents/GitHub Repositories/Spellbook/.venv/lib/python3.13/site-packages/polars/lazyframe/frame.py:2335\u001b[39m, in \u001b[36mLazyFrame.collect\u001b[39m\u001b[34m(self, type_coercion, predicate_pushdown, projection_pushdown, simplify_expression, slice_pushdown, comm_subplan_elim, comm_subexpr_elim, cluster_with_columns, collapse_joins, no_optimization, engine, background, optimizations, **_kwargs)\u001b[39m\n\u001b[32m   2333\u001b[39m \u001b[38;5;66;03m# Only for testing purposes\u001b[39;00m\n\u001b[32m   2334\u001b[39m callback = _kwargs.get(\u001b[33m\"\u001b[39m\u001b[33mpost_opt_callback\u001b[39m\u001b[33m\"\u001b[39m, callback)\n\u001b[32m-> \u001b[39m\u001b[32m2335\u001b[39m \u001b[38;5;28;01mreturn\u001b[39;00m wrap_df(\u001b[43mldf\u001b[49m\u001b[43m.\u001b[49m\u001b[43mcollect\u001b[49m\u001b[43m(\u001b[49m\u001b[43mengine\u001b[49m\u001b[43m,\u001b[49m\u001b[43m \u001b[49m\u001b[43mcallback\u001b[49m\u001b[43m)\u001b[49m)\n",
      "\u001b[31mColumnNotFoundError\u001b[39m: unable to find column \"date_string\"; valid columns: []"
     ]
    }
   ],
   "source": [
    "site_list = [\n",
    "  'pantip.com',\n",
    "  #'x.com',\n",
    "  #'facebook.com',\n",
    "  #'tiktok.com',\n",
    "  #'twitter.com',\n",
    "  #'instagram.com',\n",
    "]\n",
    "\n",
    "results_list = []\n",
    "\n",
    "for keyword in keywords:\n",
    "  for site in site_list:\n",
    "    keyword_mod = keyword.lower().replace(' ', '+')\n",
    "    google_search_url = f\"https://www.google.com/search?q={keyword_mod}+site:{site}+after:2024&as_epq={keyword_mod}\"\n",
    "    print(f'Crawling::{keyword_mod} Site::{site}\\n{google_search_url}')\n",
    "\n",
    "    results = await scraper.search.search_from_url(\n",
    "      google_search_url,\n",
    "      #extraction_schema={\n",
    "      #  \"baseSelector\": \"li.pt-list-item.pt-list-item__sr__no-img\",\n",
    "      #  \"fields\": [{\"name\": \"url\", \"selector\": \"a\", \"type\": \"attribute\", \"attribute\": \"href\"},],\n",
    "      #},\n",
    "      provider=\"google\",\n",
    "      max_results=None,\n",
    "      return_schema=True,\n",
    "      max_paginate=1,\n",
    "    )\n",
    "\n",
    "    # Add 'site' and 'keyword' to each result dict\n",
    "    for r in results:\n",
    "      r['site'] = site\n",
    "      r['keyword'] = keyword\n",
    "    results_list.extend(results)\n",
    "\n",
    "    # Clears the current cell output\n",
    "    clear_output(wait=True)\n",
    "\n",
    "df = pl.DataFrame(results_list)\n",
    "df = df.with_columns(\n",
    "    pl.col('date_string').map_elements(lambda s: sb_utils.datetime_processing.parse_thai_date(s), return_dtype=pl.Date).alias(\"parsed_date\"),\n",
    "    pl.col('url').map_elements(lambda u: sb_utils.hashing.hash_function(u.strip(), algo='md5'), return_dtype=pl.Utf8).alias(\"id\")\n",
    ")\n",
    "df.write_excel('.files/P_Mo_2025_Keywords_Search.xlsx')"
   ]
  },
  {
   "cell_type": "code",
   "execution_count": null,
   "id": "2e9f82d0",
   "metadata": {},
   "outputs": [
    {
     "data": {
      "text/plain": [
       "[]"
      ]
     },
     "execution_count": 9,
     "metadata": {},
     "output_type": "execute_result"
    }
   ],
   "source": [
    "results"
   ]
  },
  {
   "cell_type": "code",
   "execution_count": null,
   "id": "6185b765",
   "metadata": {},
   "outputs": [],
   "source": [
    "#results = asyncio.run(scraper.search.search_keywords_all_platforms(keywords))\n",
    "#results"
   ]
  },
  {
   "cell_type": "code",
   "execution_count": null,
   "id": "c247453e",
   "metadata": {},
   "outputs": [],
   "source": [
    "#result = asyncio.run(scraper.crawler.crawl_pantip_topic())\n",
    "#result"
   ]
  }
 ],
 "metadata": {
  "kernelspec": {
   "display_name": ".venv",
   "language": "python",
   "name": "python3"
  },
  "language_info": {
   "codemirror_mode": {
    "name": "ipython",
    "version": 3
   },
   "file_extension": ".py",
   "mimetype": "text/x-python",
   "name": "python",
   "nbconvert_exporter": "python",
   "pygments_lexer": "ipython3",
   "version": "3.13.1"
  }
 },
 "nbformat": 4,
 "nbformat_minor": 5
}
