{
 "cells": [
  {
   "cell_type": "code",
   "execution_count": 6,
   "id": "722fd08e",
   "metadata": {},
   "outputs": [],
   "source": [
    "import sys\n",
    "sys.path.append('/Users/pa/Documents/GitHub Repository Clone/Spellbook')"
   ]
  },
  {
   "cell_type": "code",
   "execution_count": 7,
   "id": "85b17b15",
   "metadata": {},
   "outputs": [],
   "source": [
    "import spellbook"
   ]
  },
  {
   "cell_type": "code",
   "execution_count": 2,
   "id": "e1797be9",
   "metadata": {},
   "outputs": [
    {
     "name": "stdout",
     "output_type": "stream",
     "text": [
      "Hello, world!\n"
     ]
    }
   ],
   "source": [
    "print('Hello, world!')"
   ]
  },
  {
   "cell_type": "code",
   "execution_count": 8,
   "id": "8fa4ee7a",
   "metadata": {},
   "outputs": [],
   "source": [
    "from spellbook import data_processing"
   ]
  },
  {
   "cell_type": "code",
   "execution_count": 9,
   "id": "e0f05efc",
   "metadata": {},
   "outputs": [
    {
     "name": "stderr",
     "output_type": "stream",
     "text": [
      "[nltk_data] Downloading package punkt to /Users/pa/nltk_data...\n",
      "[nltk_data]   Package punkt is already up-to-date!\n",
      "[nltk_data] Downloading package punkt_tab to /Users/pa/nltk_data...\n",
      "[nltk_data]   Package punkt_tab is already up-to-date!\n",
      "[nltk_data] Downloading package stopwords to /Users/pa/nltk_data...\n",
      "[nltk_data]   Unzipping corpora/stopwords.zip.\n"
     ]
    }
   ],
   "source": [
    "from spellbook import visualization"
   ]
  },
  {
   "cell_type": "code",
   "execution_count": 13,
   "id": "e65f0b31",
   "metadata": {},
   "outputs": [
    {
     "data": {
      "text/plain": [
       "<module 'spellbook.data_processing' from '/Users/pa/Documents/GitHub Repository Clone/Spellbook/spellbook/data_processing.py'>"
      ]
     },
     "execution_count": 13,
     "metadata": {},
     "output_type": "execute_result"
    }
   ],
   "source": [
    "spellbook.data_processing"
   ]
  },
  {
   "cell_type": "code",
   "execution_count": 12,
   "id": "4a57d4a2",
   "metadata": {},
   "outputs": [
    {
     "data": {
      "text/plain": [
       "<function spellbook.visualization.utils.tokenize_text(text: str, language: str = 'th', keep_stopwords: bool = True, keep_spaces: bool = False, engine: str = 'newmm') -> list>"
      ]
     },
     "execution_count": 12,
     "metadata": {},
     "output_type": "execute_result"
    }
   ],
   "source": [
    "spellbook.visualization.utils.tokenize_text"
   ]
  },
  {
   "cell_type": "code",
   "execution_count": null,
   "id": "ef3b740c",
   "metadata": {},
   "outputs": [
    {
     "data": {
      "text/plain": [
       "<function spellbook.visualization.utils.tokenize_text(text: str, language: str = 'th', keep_stopwords: bool = True, keep_spaces: bool = False, engine: str = 'newmm') -> list>"
      ]
     },
     "execution_count": 11,
     "metadata": {},
     "output_type": "execute_result"
    }
   ],
   "source": [
    "visualization.utils.tokenize_text"
   ]
  }
 ],
 "metadata": {
  "kernelspec": {
   "display_name": ".venv (3.13.1)",
   "language": "python",
   "name": "python3"
  },
  "language_info": {
   "codemirror_mode": {
    "name": "ipython",
    "version": 3
   },
   "file_extension": ".py",
   "mimetype": "text/x-python",
   "name": "python",
   "nbconvert_exporter": "python",
   "pygments_lexer": "ipython3",
   "version": "3.13.1"
  }
 },
 "nbformat": 4,
 "nbformat_minor": 5
}
